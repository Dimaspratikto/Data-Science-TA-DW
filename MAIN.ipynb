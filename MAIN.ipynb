{
 "cells": [
  {
   "cell_type": "markdown",
   "metadata": {},
   "source": [
    "# Toko Toserba"
   ]
  },
  {
   "cell_type": "markdown",
   "metadata": {},
   "source": [
    "DIMAS PRATIKTO (06.2018.1.06958)\n",
    "\n",
    "MUHAMMAD AZIZI (06.2018.1.06984)"
   ]
  },
  {
   "cell_type": "code",
   "execution_count": 36,
   "metadata": {},
   "outputs": [],
   "source": [
    "import numpy as np\n",
    "# Data processing\n",
    "import pandas as pd\n",
    "# Data Visualization\n",
    "import plotly.graph_objs as go \n",
    "import seaborn as sns\n",
    "import matplotlib.pyplot as plt\n",
    "from plotly.subplots import make_subplots"
   ]
  },
  {
   "cell_type": "markdown",
   "metadata": {},
   "source": [
    "# Desain Dataware House"
   ]
  },
  {
   "cell_type": "markdown",
   "metadata": {},
   "source": [
    "Star Schema Design"
   ]
  },
  {
   "cell_type": "code",
   "execution_count": 37,
   "metadata": {},
   "outputs": [
    {
     "data": {
      "image/jpeg": "[encoded data removed]",
      "text/plain": [
       "<IPython.core.display.Image object>"
      ]
     },
     "execution_count": 37,
     "metadata": {},
     "output_type": "execute_result"
    }
   ],
   "source": [
    "from IPython.display import Image\n",
    "Image(filename='dw.jpg')"
   ]
  },
  {
   "cell_type": "code",
   "execution_count": 49,
   "metadata": {},
   "outputs": [
    {
     "name": "stderr",
     "output_type": "stream",
     "text": [
      "b'Skipping line 12: expected 15 fields, saw 16\\nSkipping line 18: expected 15 fields, saw 16\\nSkipping line 26: expected 15 fields, saw 16\\nSkipping line 29: expected 15 fields, saw 16\\nSkipping line 30: expected 15 fields, saw 16\\nSkipping line 32: expected 15 fields, saw 16\\nSkipping line 34: expected 15 fields, saw 16\\nSkipping line 35: expected 15 fields, saw 16\\nSkipping line 36: expected 15 fields, saw 16\\nSkipping line 41: expected 15 fields, saw 16\\nSkipping line 49: expected 15 fields, saw 16\\nSkipping line 53: expected 15 fields, saw 16\\nSkipping line 57: expected 15 fields, saw 16\\nSkipping line 66: expected 15 fields, saw 16\\nSkipping line 76: expected 15 fields, saw 16\\nSkipping line 78: expected 15 fields, saw 16\\nSkipping line 83: expected 15 fields, saw 16\\nSkipping line 92: expected 15 fields, saw 16\\nSkipping line 98: expected 15 fields, saw 16\\nSkipping line 102: expected 15 fields, saw 16\\nSkipping line 104: expected 15 fields, saw 16\\nSkipping line 106: expected 15 fields, saw 16\\nSkipping line 110: expected 15 fields, saw 16\\nSkipping line 112: expected 15 fields, saw 16\\nSkipping line 115: expected 15 fields, saw 16\\nSkipping line 117: expected 15 fields, saw 16\\nSkipping line 122: expected 15 fields, saw 16\\nSkipping line 124: expected 15 fields, saw 16\\nSkipping line 130: expected 15 fields, saw 16\\nSkipping line 136: expected 15 fields, saw 16\\nSkipping line 137: expected 15 fields, saw 16\\nSkipping line 139: expected 15 fields, saw 16\\nSkipping line 141: expected 15 fields, saw 16\\nSkipping line 142: expected 15 fields, saw 16\\nSkipping line 143: expected 15 fields, saw 16\\nSkipping line 155: expected 15 fields, saw 16\\nSkipping line 156: expected 15 fields, saw 16\\nSkipping line 158: expected 15 fields, saw 16\\nSkipping line 160: expected 15 fields, saw 16\\nSkipping line 168: expected 15 fields, saw 16\\nSkipping line 170: expected 15 fields, saw 16\\nSkipping line 173: expected 15 fields, saw 16\\nSkipping line 175: expected 15 fields, saw 16\\nSkipping line 178: expected 15 fields, saw 16\\nSkipping line 179: expected 15 fields, saw 16\\nSkipping line 180: expected 15 fields, saw 16\\nSkipping line 181: expected 15 fields, saw 16\\nSkipping line 189: expected 15 fields, saw 16\\nSkipping line 193: expected 15 fields, saw 16\\nSkipping line 197: expected 15 fields, saw 16\\nSkipping line 198: expected 15 fields, saw 16\\nSkipping line 204: expected 15 fields, saw 16\\nSkipping line 207: expected 15 fields, saw 16\\nSkipping line 208: expected 15 fields, saw 16\\nSkipping line 216: expected 15 fields, saw 16\\nSkipping line 218: expected 15 fields, saw 16\\nSkipping line 220: expected 15 fields, saw 16\\nSkipping line 221: expected 15 fields, saw 16\\nSkipping line 222: expected 15 fields, saw 16\\nSkipping line 227: expected 15 fields, saw 16\\nSkipping line 235: expected 15 fields, saw 16\\nSkipping line 237: expected 15 fields, saw 16\\nSkipping line 239: expected 15 fields, saw 16\\nSkipping line 247: expected 15 fields, saw 16\\nSkipping line 258: expected 15 fields, saw 16\\nSkipping line 266: expected 15 fields, saw 16\\nSkipping line 269: expected 15 fields, saw 16\\nSkipping line 273: expected 15 fields, saw 16\\nSkipping line 277: expected 15 fields, saw 16\\nSkipping line 278: expected 15 fields, saw 16\\nSkipping line 279: expected 15 fields, saw 16\\nSkipping line 284: expected 15 fields, saw 16\\nSkipping line 287: expected 15 fields, saw 16\\nSkipping line 288: expected 15 fields, saw 16\\nSkipping line 290: expected 15 fields, saw 16\\nSkipping line 297: expected 15 fields, saw 16\\nSkipping line 300: expected 15 fields, saw 16\\nSkipping line 303: expected 15 fields, saw 16\\nSkipping line 305: expected 15 fields, saw 16\\nSkipping line 308: expected 15 fields, saw 16\\nSkipping line 309: expected 15 fields, saw 16\\nSkipping line 310: expected 15 fields, saw 16\\nSkipping line 311: expected 15 fields, saw 16\\nSkipping line 319: expected 15 fields, saw 16\\nSkipping line 323: expected 15 fields, saw 16\\nSkipping line 327: expected 15 fields, saw 16\\nSkipping line 328: expected 15 fields, saw 16\\nSkipping line 334: expected 15 fields, saw 16\\nSkipping line 337: expected 15 fields, saw 16\\nSkipping line 340: expected 15 fields, saw 16\\nSkipping line 349: expected 15 fields, saw 16\\nSkipping line 351: expected 15 fields, saw 16\\nSkipping line 354: expected 15 fields, saw 16\\nSkipping line 356: expected 15 fields, saw 16\\nSkipping line 359: expected 15 fields, saw 16\\nSkipping line 360: expected 15 fields, saw 16\\nSkipping line 361: expected 15 fields, saw 16\\nSkipping line 362: expected 15 fields, saw 16\\nSkipping line 366: expected 15 fields, saw 16\\nSkipping line 373: expected 15 fields, saw 16\\nSkipping line 374: expected 15 fields, saw 16\\nSkipping line 375: expected 15 fields, saw 16\\nSkipping line 376: expected 15 fields, saw 16\\nSkipping line 389: expected 15 fields, saw 16\\nSkipping line 400: expected 15 fields, saw 16\\nSkipping line 406: expected 15 fields, saw 16\\nSkipping line 407: expected 15 fields, saw 16\\nSkipping line 408: expected 15 fields, saw 16\\nSkipping line 410: expected 15 fields, saw 16\\nSkipping line 411: expected 15 fields, saw 16\\nSkipping line 412: expected 15 fields, saw 16\\nSkipping line 413: expected 15 fields, saw 16\\nSkipping line 418: expected 15 fields, saw 16\\nSkipping line 424: expected 15 fields, saw 16\\nSkipping line 426: expected 15 fields, saw 16\\nSkipping line 428: expected 15 fields, saw 16\\nSkipping line 429: expected 15 fields, saw 16\\nSkipping line 430: expected 15 fields, saw 16\\nSkipping line 435: expected 15 fields, saw 16\\nSkipping line 443: expected 15 fields, saw 16\\nSkipping line 445: expected 15 fields, saw 16\\nSkipping line 447: expected 15 fields, saw 16\\nSkipping line 453: expected 15 fields, saw 16\\nSkipping line 460: expected 15 fields, saw 16\\nSkipping line 462: expected 15 fields, saw 16\\nSkipping line 465: expected 15 fields, saw 16\\nSkipping line 466: expected 15 fields, saw 16\\nSkipping line 467: expected 15 fields, saw 16\\nSkipping line 470: expected 15 fields, saw 16\\nSkipping line 473: expected 15 fields, saw 16\\nSkipping line 479: expected 15 fields, saw 16\\nSkipping line 485: expected 15 fields, saw 16\\nSkipping line 488: expected 15 fields, saw 16\\nSkipping line 496: expected 15 fields, saw 16\\nSkipping line 501: expected 15 fields, saw 16\\nSkipping line 505: expected 15 fields, saw 16\\nSkipping line 511: expected 15 fields, saw 16\\nSkipping line 514: expected 15 fields, saw 16\\nSkipping line 522: expected 15 fields, saw 16\\nSkipping line 523: expected 15 fields, saw 16\\nSkipping line 527: expected 15 fields, saw 16\\nSkipping line 529: expected 15 fields, saw 16\\nSkipping line 532: expected 15 fields, saw 16\\nSkipping line 541: expected 15 fields, saw 16\\nSkipping line 545: expected 15 fields, saw 16\\nSkipping line 558: expected 15 fields, saw 16\\nSkipping line 561: expected 15 fields, saw 16\\nSkipping line 568: expected 15 fields, saw 16\\nSkipping line 569: expected 15 fields, saw 16\\nSkipping line 570: expected 15 fields, saw 16\\nSkipping line 574: expected 15 fields, saw 16\\nSkipping line 575: expected 15 fields, saw 16\\nSkipping line 581: expected 15 fields, saw 16\\nSkipping line 587: expected 15 fields, saw 16\\nSkipping line 589: expected 15 fields, saw 16\\nSkipping line 590: expected 15 fields, saw 16\\nSkipping line 594: expected 15 fields, saw 16\\nSkipping line 606: expected 15 fields, saw 16\\nSkipping line 612: expected 15 fields, saw 16\\nSkipping line 613: expected 15 fields, saw 16\\nSkipping line 614: expected 15 fields, saw 16\\nSkipping line 617: expected 15 fields, saw 16\\nSkipping line 618: expected 15 fields, saw 16\\nSkipping line 619: expected 15 fields, saw 16\\nSkipping line 622: expected 15 fields, saw 16\\nSkipping line 624: expected 15 fields, saw 16\\nSkipping line 631: expected 15 fields, saw 16\\nSkipping line 640: expected 15 fields, saw 16\\nSkipping line 643: expected 15 fields, saw 16\\nSkipping line 644: expected 15 fields, saw 16\\nSkipping line 645: expected 15 fields, saw 16\\nSkipping line 648: expected 15 fields, saw 16\\nSkipping line 651: expected 15 fields, saw 16\\nSkipping line 659: expected 15 fields, saw 16\\nSkipping line 660: expected 15 fields, saw 16\\nSkipping line 662: expected 15 fields, saw 16\\nSkipping line 666: expected 15 fields, saw 16\\nSkipping line 675: expected 15 fields, saw 16\\nSkipping line 683: expected 15 fields, saw 16\\nSkipping line 689: expected 15 fields, saw 16\\nSkipping line 691: expected 15 fields, saw 16\\nSkipping line 692: expected 15 fields, saw 16\\nSkipping line 696: expected 15 fields, saw 16\\nSkipping line 698: expected 15 fields, saw 16\\nSkipping line 705: expected 15 fields, saw 16\\nSkipping line 708: expected 15 fields, saw 16\\nSkipping line 709: expected 15 fields, saw 16\\nSkipping line 710: expected 15 fields, saw 16\\nSkipping line 711: expected 15 fields, saw 16\\nSkipping line 723: expected 15 fields, saw 16\\nSkipping line 726: expected 15 fields, saw 16\\nSkipping line 730: expected 15 fields, saw 16\\nSkipping line 731: expected 15 fields, saw 16\\nSkipping line 737: expected 15 fields, saw 16\\nSkipping line 739: expected 15 fields, saw 16\\nSkipping line 740: expected 15 fields, saw 16\\nSkipping line 747: expected 15 fields, saw 16\\nSkipping line 756: expected 15 fields, saw 16\\nSkipping line 757: expected 15 fields, saw 16\\nSkipping line 759: expected 15 fields, saw 16\\nSkipping line 760: expected 15 fields, saw 16\\nSkipping line 761: expected 15 fields, saw 16\\nSkipping line 762: expected 15 fields, saw 16\\nSkipping line 763: expected 15 fields, saw 16\\nSkipping line 775: expected 15 fields, saw 16\\nSkipping line 776: expected 15 fields, saw 16\\nSkipping line 778: expected 15 fields, saw 16\\nSkipping line 780: expected 15 fields, saw 16\\nSkipping line 784: expected 15 fields, saw 16\\nSkipping line 789: expected 15 fields, saw 16\\nSkipping line 790: expected 15 fields, saw 16\\nSkipping line 794: expected 15 fields, saw 16\\nSkipping line 795: expected 15 fields, saw 16\\nSkipping line 799: expected 15 fields, saw 16\\nSkipping line 801: expected 15 fields, saw 16\\nSkipping line 807: expected 15 fields, saw 16\\nSkipping line 816: expected 15 fields, saw 16\\nSkipping line 826: expected 15 fields, saw 16\\nSkipping line 828: expected 15 fields, saw 16\\nSkipping line 832: expected 15 fields, saw 16\\nSkipping line 833: expected 15 fields, saw 16\\nSkipping line 834: expected 15 fields, saw 16\\nSkipping line 840: expected 15 fields, saw 16\\nSkipping line 842: expected 15 fields, saw 16\\nSkipping line 843: expected 15 fields, saw 16\\nSkipping line 851: expected 15 fields, saw 16\\nSkipping line 852: expected 15 fields, saw 16\\nSkipping line 861: expected 15 fields, saw 16\\nSkipping line 870: expected 15 fields, saw 16\\nSkipping line 873: expected 15 fields, saw 16\\nSkipping line 874: expected 15 fields, saw 16\\nSkipping line 884: expected 15 fields, saw 16\\nSkipping line 885: expected 15 fields, saw 16\\nSkipping line 887: expected 15 fields, saw 16\\nSkipping line 889: expected 15 fields, saw 16\\nSkipping line 890: expected 15 fields, saw 16\\nSkipping line 891: expected 15 fields, saw 16\\nSkipping line 904: expected 15 fields, saw 16\\nSkipping line 908: expected 15 fields, saw 16\\nSkipping line 912: expected 15 fields, saw 16\\nSkipping line 914: expected 15 fields, saw 16\\nSkipping line 917: expected 15 fields, saw 16\\nSkipping line 918: expected 15 fields, saw 16\\nSkipping line 930: expected 15 fields, saw 16\\nSkipping line 931: expected 15 fields, saw 16\\nSkipping line 941: expected 15 fields, saw 16\\nSkipping line 944: expected 15 fields, saw 16\\nSkipping line 946: expected 15 fields, saw 16\\nSkipping line 951: expected 15 fields, saw 16\\nSkipping line 952: expected 15 fields, saw 16\\nSkipping line 953: expected 15 fields, saw 16\\nSkipping line 958: expected 15 fields, saw 16\\nSkipping line 965: expected 15 fields, saw 16\\nSkipping line 967: expected 15 fields, saw 16\\nSkipping line 970: expected 15 fields, saw 16\\nSkipping line 971: expected 15 fields, saw 16\\nSkipping line 983: expected 15 fields, saw 16\\nSkipping line 984: expected 15 fields, saw 16\\nSkipping line 991: expected 15 fields, saw 16\\nSkipping line 999: expected 15 fields, saw 16\\n'\n"
     ]
    }
   ],
   "source": [
    "df = pd.read_csv('filebaru11.csv', error_bad_lines=False)"
   ]
  },
  {
   "cell_type": "code",
   "execution_count": 50,
   "metadata": {
    "scrolled": false
   },
   "outputs": [
    {
     "data": {
      "text/html": [
       "<div>\n",
       "<style scoped>\n",
       "    .dataframe tbody tr th:only-of-type {\n",
       "        vertical-align: middle;\n",
       "    }\n",
       "\n",
       "    .dataframe tbody tr th {\n",
       "        vertical-align: top;\n",
       "    }\n",
       "\n",
       "    .dataframe thead th {\n",
       "        text-align: right;\n",
       "    }\n",
       "</style>\n",
       "<table border=\"1\" class=\"dataframe\">\n",
       "  <thead>\n",
       "    <tr style=\"text-align: right;\">\n",
       "      <th></th>\n",
       "      <th>IdTransaksi</th>\n",
       "      <th>IdPelanggan</th>\n",
       "      <th>Date</th>\n",
       "      <th>NamaPelanggan</th>\n",
       "      <th>Kota</th>\n",
       "      <th>Status</th>\n",
       "      <th>JenisKelamin</th>\n",
       "      <th>IdProduk</th>\n",
       "      <th>NamaProduk</th>\n",
       "      <th>Harga</th>\n",
       "      <th>Qty</th>\n",
       "      <th>Pajak</th>\n",
       "      <th>Total</th>\n",
       "      <th>Pembayaran</th>\n",
       "      <th>Rating</th>\n",
       "    </tr>\n",
       "  </thead>\n",
       "  <tbody>\n",
       "    <tr>\n",
       "      <th>0</th>\n",
       "      <td>10107</td>\n",
       "      <td>17850</td>\n",
       "      <td>01/05/2019</td>\n",
       "      <td>Corporate Gift Ideas Co.</td>\n",
       "      <td>Surabaya</td>\n",
       "      <td>Member</td>\n",
       "      <td>Female</td>\n",
       "      <td>2627483.0</td>\n",
       "      <td>Health and beauty</td>\n",
       "      <td>74.69</td>\n",
       "      <td>7</td>\n",
       "      <td>261.415</td>\n",
       "      <td>5.489.715</td>\n",
       "      <td>Ewallet</td>\n",
       "      <td>9.1</td>\n",
       "    </tr>\n",
       "    <tr>\n",
       "      <th>1</th>\n",
       "      <td>10121</td>\n",
       "      <td>17851</td>\n",
       "      <td>03/08/2019</td>\n",
       "      <td>NaN</td>\n",
       "      <td>Yogyakarta</td>\n",
       "      <td>Normal</td>\n",
       "      <td>Female</td>\n",
       "      <td>2361688.0</td>\n",
       "      <td>Electronic accessories</td>\n",
       "      <td>15.28</td>\n",
       "      <td>5</td>\n",
       "      <td>3.820</td>\n",
       "      <td>80.22</td>\n",
       "      <td>Cash</td>\n",
       "      <td>9.6</td>\n",
       "    </tr>\n",
       "    <tr>\n",
       "      <th>2</th>\n",
       "      <td>10134</td>\n",
       "      <td>17852</td>\n",
       "      <td>03/03/2019</td>\n",
       "      <td>Lyon Souveniers</td>\n",
       "      <td>Surabaya</td>\n",
       "      <td>Normal</td>\n",
       "      <td>Male</td>\n",
       "      <td>1286255.0</td>\n",
       "      <td>Home and lifestyle</td>\n",
       "      <td>46.33</td>\n",
       "      <td>7</td>\n",
       "      <td>162.155</td>\n",
       "      <td>3.405.255</td>\n",
       "      <td>Credit card</td>\n",
       "      <td>7.4</td>\n",
       "    </tr>\n",
       "    <tr>\n",
       "      <th>3</th>\n",
       "      <td>10145</td>\n",
       "      <td>17853</td>\n",
       "      <td>1/27/2019</td>\n",
       "      <td>Toys4GrownUps.com</td>\n",
       "      <td>Surabaya</td>\n",
       "      <td>Member</td>\n",
       "      <td>Male</td>\n",
       "      <td>NaN</td>\n",
       "      <td>Home and lifestyle</td>\n",
       "      <td>58.22</td>\n",
       "      <td>8</td>\n",
       "      <td>23.288</td>\n",
       "      <td>489.048</td>\n",
       "      <td>Ewallet</td>\n",
       "      <td>8.4</td>\n",
       "    </tr>\n",
       "    <tr>\n",
       "      <th>4</th>\n",
       "      <td>10159</td>\n",
       "      <td>17854</td>\n",
       "      <td>02/08/2019</td>\n",
       "      <td>Corporate Gift Ideas Co.</td>\n",
       "      <td>Surabaya</td>\n",
       "      <td>Normal</td>\n",
       "      <td>Male</td>\n",
       "      <td>4812562.0</td>\n",
       "      <td>Sports and travel</td>\n",
       "      <td>86.31</td>\n",
       "      <td>7</td>\n",
       "      <td>302.085</td>\n",
       "      <td>6.343.785</td>\n",
       "      <td>Ewallet</td>\n",
       "      <td>5.3</td>\n",
       "    </tr>\n",
       "    <tr>\n",
       "      <th>...</th>\n",
       "      <td>...</td>\n",
       "      <td>...</td>\n",
       "      <td>...</td>\n",
       "      <td>...</td>\n",
       "      <td>...</td>\n",
       "      <td>...</td>\n",
       "      <td>...</td>\n",
       "      <td>...</td>\n",
       "      <td>...</td>\n",
       "      <td>...</td>\n",
       "      <td>...</td>\n",
       "      <td>...</td>\n",
       "      <td>...</td>\n",
       "      <td>...</td>\n",
       "      <td>...</td>\n",
       "    </tr>\n",
       "    <tr>\n",
       "      <th>735</th>\n",
       "      <td>10177</td>\n",
       "      <td>18844</td>\n",
       "      <td>2/18/2019</td>\n",
       "      <td>CAF Imports</td>\n",
       "      <td>Yogyakarta</td>\n",
       "      <td>Member</td>\n",
       "      <td>Female</td>\n",
       "      <td>9098675.0</td>\n",
       "      <td>Electronic accessories</td>\n",
       "      <td>60.95</td>\n",
       "      <td>1</td>\n",
       "      <td>30.475</td>\n",
       "      <td>639.975</td>\n",
       "      <td>Ewallet</td>\n",
       "      <td>5.9</td>\n",
       "    </tr>\n",
       "    <tr>\n",
       "      <th>736</th>\n",
       "      <td>10185</td>\n",
       "      <td>18845</td>\n",
       "      <td>1/29/2019</td>\n",
       "      <td>Mini Creations Ltd.</td>\n",
       "      <td>Yogyakarta</td>\n",
       "      <td>Normal</td>\n",
       "      <td>Male</td>\n",
       "      <td>7534734.0</td>\n",
       "      <td>Health and beauty</td>\n",
       "      <td>40.35</td>\n",
       "      <td>1</td>\n",
       "      <td>20.175</td>\n",
       "      <td>423.675</td>\n",
       "      <td>Ewallet</td>\n",
       "      <td>6.2</td>\n",
       "    </tr>\n",
       "    <tr>\n",
       "      <th>737</th>\n",
       "      <td>10196</td>\n",
       "      <td>18846</td>\n",
       "      <td>03/02/2019</td>\n",
       "      <td>Super Scale Inc.</td>\n",
       "      <td>Jakarta</td>\n",
       "      <td>Normal</td>\n",
       "      <td>Female</td>\n",
       "      <td>5968391.0</td>\n",
       "      <td>Home and lifestyle</td>\n",
       "      <td>97.38</td>\n",
       "      <td>10</td>\n",
       "      <td>48.690</td>\n",
       "      <td>1022.49</td>\n",
       "      <td>Ewallet</td>\n",
       "      <td>4.4</td>\n",
       "    </tr>\n",
       "    <tr>\n",
       "      <th>738</th>\n",
       "      <td>10221</td>\n",
       "      <td>18848</td>\n",
       "      <td>2/22/2019</td>\n",
       "      <td>NaN</td>\n",
       "      <td>Surabaya</td>\n",
       "      <td>Normal</td>\n",
       "      <td>Male</td>\n",
       "      <td>8825793.0</td>\n",
       "      <td>Home and lifestyle</td>\n",
       "      <td>65.82</td>\n",
       "      <td>1</td>\n",
       "      <td>3.291</td>\n",
       "      <td>69.111</td>\n",
       "      <td>Cash</td>\n",
       "      <td>4.1</td>\n",
       "    </tr>\n",
       "    <tr>\n",
       "      <th>739</th>\n",
       "      <td>10232</td>\n",
       "      <td>18849</td>\n",
       "      <td>2/18/2019</td>\n",
       "      <td>giftsbymail.co.uk</td>\n",
       "      <td>Surabaya</td>\n",
       "      <td>Member</td>\n",
       "      <td>Female</td>\n",
       "      <td>8525488.0</td>\n",
       "      <td>Fashion accessories</td>\n",
       "      <td>88.34</td>\n",
       "      <td>7</td>\n",
       "      <td>30.919</td>\n",
       "      <td>649.299</td>\n",
       "      <td>Cash</td>\n",
       "      <td>6.6</td>\n",
       "    </tr>\n",
       "  </tbody>\n",
       "</table>\n",
       "<p>740 rows × 15 columns</p>\n",
       "</div>"
      ],
      "text/plain": [
       "     IdTransaksi  IdPelanggan        Date             NamaPelanggan  \\\n",
       "0          10107        17850  01/05/2019  Corporate Gift Ideas Co.   \n",
       "1          10121        17851  03/08/2019                       NaN   \n",
       "2          10134        17852  03/03/2019           Lyon Souveniers   \n",
       "3          10145        17853   1/27/2019         Toys4GrownUps.com   \n",
       "4          10159        17854  02/08/2019  Corporate Gift Ideas Co.   \n",
       "..           ...          ...         ...                       ...   \n",
       "735        10177        18844   2/18/2019               CAF Imports   \n",
       "736        10185        18845   1/29/2019       Mini Creations Ltd.   \n",
       "737        10196        18846  03/02/2019          Super Scale Inc.   \n",
       "738        10221        18848   2/22/2019                       NaN   \n",
       "739        10232        18849   2/18/2019         giftsbymail.co.uk   \n",
       "\n",
       "           Kota  Status JenisKelamin  IdProduk               NamaProduk  \\\n",
       "0      Surabaya  Member       Female  2627483.0       Health and beauty   \n",
       "1    Yogyakarta  Normal       Female  2361688.0  Electronic accessories   \n",
       "2      Surabaya  Normal         Male  1286255.0      Home and lifestyle   \n",
       "3      Surabaya  Member         Male        NaN      Home and lifestyle   \n",
       "4      Surabaya  Normal         Male  4812562.0       Sports and travel   \n",
       "..          ...     ...          ...        ...                     ...   \n",
       "735  Yogyakarta  Member       Female  9098675.0  Electronic accessories   \n",
       "736  Yogyakarta  Normal         Male  7534734.0       Health and beauty   \n",
       "737     Jakarta  Normal       Female  5968391.0      Home and lifestyle   \n",
       "738    Surabaya  Normal         Male  8825793.0      Home and lifestyle   \n",
       "739    Surabaya  Member       Female  8525488.0     Fashion accessories   \n",
       "\n",
       "     Harga  Qty    Pajak      Total   Pembayaran  Rating  \n",
       "0    74.69    7  261.415  5.489.715      Ewallet     9.1  \n",
       "1    15.28    5    3.820      80.22         Cash     9.6  \n",
       "2    46.33    7  162.155  3.405.255  Credit card     7.4  \n",
       "3    58.22    8   23.288    489.048      Ewallet     8.4  \n",
       "4    86.31    7  302.085  6.343.785      Ewallet     5.3  \n",
       "..     ...  ...      ...        ...          ...     ...  \n",
       "735  60.95    1   30.475    639.975      Ewallet     5.9  \n",
       "736  40.35    1   20.175    423.675      Ewallet     6.2  \n",
       "737  97.38   10   48.690    1022.49      Ewallet     4.4  \n",
       "738  65.82    1    3.291     69.111         Cash     4.1  \n",
       "739  88.34    7   30.919    649.299         Cash     6.6  \n",
       "\n",
       "[740 rows x 15 columns]"
      ]
     },
     "execution_count": 50,
     "metadata": {},
     "output_type": "execute_result"
    }
   ],
   "source": [
    "df"
   ]
  },
  {
   "cell_type": "markdown",
   "metadata": {},
   "source": [
    "# Melakukan Data Cleaning"
   ]
  },
  {
   "cell_type": "code",
   "execution_count": 51,
   "metadata": {
    "scrolled": true
   },
   "outputs": [
    {
     "data": {
      "text/html": [
       "<div>\n",
       "<style scoped>\n",
       "    .dataframe tbody tr th:only-of-type {\n",
       "        vertical-align: middle;\n",
       "    }\n",
       "\n",
       "    .dataframe tbody tr th {\n",
       "        vertical-align: top;\n",
       "    }\n",
       "\n",
       "    .dataframe thead th {\n",
       "        text-align: right;\n",
       "    }\n",
       "</style>\n",
       "<table border=\"1\" class=\"dataframe\">\n",
       "  <thead>\n",
       "    <tr style=\"text-align: right;\">\n",
       "      <th></th>\n",
       "      <th>IdTransaksi</th>\n",
       "      <th>IdPelanggan</th>\n",
       "      <th>Date</th>\n",
       "      <th>NamaPelanggan</th>\n",
       "      <th>Kota</th>\n",
       "      <th>Status</th>\n",
       "      <th>JenisKelamin</th>\n",
       "      <th>IdProduk</th>\n",
       "      <th>NamaProduk</th>\n",
       "      <th>Harga</th>\n",
       "      <th>Qty</th>\n",
       "      <th>Pajak</th>\n",
       "      <th>Total</th>\n",
       "      <th>Pembayaran</th>\n",
       "      <th>Rating</th>\n",
       "    </tr>\n",
       "  </thead>\n",
       "  <tbody>\n",
       "    <tr>\n",
       "      <th>1</th>\n",
       "      <td>10121</td>\n",
       "      <td>17851</td>\n",
       "      <td>03/08/2019</td>\n",
       "      <td>NaN</td>\n",
       "      <td>Yogyakarta</td>\n",
       "      <td>Normal</td>\n",
       "      <td>Female</td>\n",
       "      <td>2361688.0</td>\n",
       "      <td>Electronic accessories</td>\n",
       "      <td>15.28</td>\n",
       "      <td>5</td>\n",
       "      <td>3.820</td>\n",
       "      <td>80.22</td>\n",
       "      <td>Cash</td>\n",
       "      <td>9.6</td>\n",
       "    </tr>\n",
       "    <tr>\n",
       "      <th>3</th>\n",
       "      <td>10145</td>\n",
       "      <td>17853</td>\n",
       "      <td>1/27/2019</td>\n",
       "      <td>Toys4GrownUps.com</td>\n",
       "      <td>Surabaya</td>\n",
       "      <td>Member</td>\n",
       "      <td>Male</td>\n",
       "      <td>NaN</td>\n",
       "      <td>Home and lifestyle</td>\n",
       "      <td>58.22</td>\n",
       "      <td>8</td>\n",
       "      <td>23.288</td>\n",
       "      <td>489.048</td>\n",
       "      <td>Ewallet</td>\n",
       "      <td>8.4</td>\n",
       "    </tr>\n",
       "    <tr>\n",
       "      <th>20</th>\n",
       "      <td>10375</td>\n",
       "      <td>17872</td>\n",
       "      <td>3/15/2019</td>\n",
       "      <td>La Rochelle Gifts</td>\n",
       "      <td>Jakarta</td>\n",
       "      <td>Normal</td>\n",
       "      <td>Male</td>\n",
       "      <td>9424511.0</td>\n",
       "      <td>Home and lifestyle</td>\n",
       "      <td>33.20</td>\n",
       "      <td>2</td>\n",
       "      <td>3.320</td>\n",
       "      <td>NaN</td>\n",
       "      <td>Credit card</td>\n",
       "      <td>4.4</td>\n",
       "    </tr>\n",
       "    <tr>\n",
       "      <th>80</th>\n",
       "      <td>10329</td>\n",
       "      <td>17949</td>\n",
       "      <td>03/05/2019</td>\n",
       "      <td>Land of Toys Inc.</td>\n",
       "      <td>Jakarta</td>\n",
       "      <td>Normal</td>\n",
       "      <td>Male</td>\n",
       "      <td>8202739.0</td>\n",
       "      <td>Home and lifestyle</td>\n",
       "      <td>NaN</td>\n",
       "      <td>6</td>\n",
       "      <td>24.810</td>\n",
       "      <td>521.01</td>\n",
       "      <td>Cash</td>\n",
       "      <td>7.4</td>\n",
       "    </tr>\n",
       "    <tr>\n",
       "      <th>734</th>\n",
       "      <td>10166</td>\n",
       "      <td>18843</td>\n",
       "      <td>2/22/2019</td>\n",
       "      <td>FunGiftIdeas.com</td>\n",
       "      <td>Jakarta</td>\n",
       "      <td>Normal</td>\n",
       "      <td>Male</td>\n",
       "      <td>NaN</td>\n",
       "      <td>Fashion accessories</td>\n",
       "      <td>17.49</td>\n",
       "      <td>10</td>\n",
       "      <td>8.745</td>\n",
       "      <td>183.645</td>\n",
       "      <td>Ewallet</td>\n",
       "      <td>6.6</td>\n",
       "    </tr>\n",
       "    <tr>\n",
       "      <th>738</th>\n",
       "      <td>10221</td>\n",
       "      <td>18848</td>\n",
       "      <td>2/22/2019</td>\n",
       "      <td>NaN</td>\n",
       "      <td>Surabaya</td>\n",
       "      <td>Normal</td>\n",
       "      <td>Male</td>\n",
       "      <td>8825793.0</td>\n",
       "      <td>Home and lifestyle</td>\n",
       "      <td>65.82</td>\n",
       "      <td>1</td>\n",
       "      <td>3.291</td>\n",
       "      <td>69.111</td>\n",
       "      <td>Cash</td>\n",
       "      <td>4.1</td>\n",
       "    </tr>\n",
       "  </tbody>\n",
       "</table>\n",
       "</div>"
      ],
      "text/plain": [
       "     IdTransaksi  IdPelanggan        Date      NamaPelanggan        Kota  \\\n",
       "1          10121        17851  03/08/2019                NaN  Yogyakarta   \n",
       "3          10145        17853   1/27/2019  Toys4GrownUps.com    Surabaya   \n",
       "20         10375        17872   3/15/2019  La Rochelle Gifts     Jakarta   \n",
       "80         10329        17949  03/05/2019  Land of Toys Inc.     Jakarta   \n",
       "734        10166        18843   2/22/2019   FunGiftIdeas.com     Jakarta   \n",
       "738        10221        18848   2/22/2019                NaN    Surabaya   \n",
       "\n",
       "     Status JenisKelamin  IdProduk               NamaProduk  Harga  Qty  \\\n",
       "1    Normal       Female  2361688.0  Electronic accessories  15.28    5   \n",
       "3    Member         Male        NaN      Home and lifestyle  58.22    8   \n",
       "20   Normal         Male  9424511.0      Home and lifestyle  33.20    2   \n",
       "80   Normal         Male  8202739.0      Home and lifestyle    NaN    6   \n",
       "734  Normal         Male        NaN     Fashion accessories  17.49   10   \n",
       "738  Normal         Male  8825793.0      Home and lifestyle  65.82    1   \n",
       "\n",
       "      Pajak    Total   Pembayaran  Rating  \n",
       "1     3.820    80.22         Cash     9.6  \n",
       "3    23.288  489.048      Ewallet     8.4  \n",
       "20    3.320      NaN  Credit card     4.4  \n",
       "80   24.810   521.01         Cash     7.4  \n",
       "734   8.745  183.645      Ewallet     6.6  \n",
       "738   3.291   69.111         Cash     4.1  "
      ]
     },
     "execution_count": 51,
     "metadata": {},
     "output_type": "execute_result"
    }
   ],
   "source": [
    "nan_df = df[df.isna().any(axis=1)]\n",
    "nan_df"
   ]
  },
  {
   "cell_type": "code",
   "execution_count": 52,
   "metadata": {},
   "outputs": [
    {
     "data": {
      "text/html": [
       "<div>\n",
       "<style scoped>\n",
       "    .dataframe tbody tr th:only-of-type {\n",
       "        vertical-align: middle;\n",
       "    }\n",
       "\n",
       "    .dataframe tbody tr th {\n",
       "        vertical-align: top;\n",
       "    }\n",
       "\n",
       "    .dataframe thead th {\n",
       "        text-align: right;\n",
       "    }\n",
       "</style>\n",
       "<table border=\"1\" class=\"dataframe\">\n",
       "  <thead>\n",
       "    <tr style=\"text-align: right;\">\n",
       "      <th></th>\n",
       "      <th>IdTransaksi</th>\n",
       "      <th>IdPelanggan</th>\n",
       "      <th>Date</th>\n",
       "      <th>NamaPelanggan</th>\n",
       "      <th>Kota</th>\n",
       "      <th>Status</th>\n",
       "      <th>JenisKelamin</th>\n",
       "      <th>IdProduk</th>\n",
       "      <th>NamaProduk</th>\n",
       "      <th>Harga</th>\n",
       "      <th>Qty</th>\n",
       "      <th>Pajak</th>\n",
       "      <th>Total</th>\n",
       "      <th>Pembayaran</th>\n",
       "      <th>Rating</th>\n",
       "    </tr>\n",
       "  </thead>\n",
       "  <tbody>\n",
       "    <tr>\n",
       "      <th>0</th>\n",
       "      <td>10107</td>\n",
       "      <td>17850</td>\n",
       "      <td>01/05/2019</td>\n",
       "      <td>Corporate Gift Ideas Co.</td>\n",
       "      <td>Surabaya</td>\n",
       "      <td>Member</td>\n",
       "      <td>Female</td>\n",
       "      <td>2627483.0</td>\n",
       "      <td>Health and beauty</td>\n",
       "      <td>74.69</td>\n",
       "      <td>7</td>\n",
       "      <td>261.415</td>\n",
       "      <td>5.489.715</td>\n",
       "      <td>Ewallet</td>\n",
       "      <td>9.1</td>\n",
       "    </tr>\n",
       "    <tr>\n",
       "      <th>2</th>\n",
       "      <td>10134</td>\n",
       "      <td>17852</td>\n",
       "      <td>03/03/2019</td>\n",
       "      <td>Lyon Souveniers</td>\n",
       "      <td>Surabaya</td>\n",
       "      <td>Normal</td>\n",
       "      <td>Male</td>\n",
       "      <td>1286255.0</td>\n",
       "      <td>Home and lifestyle</td>\n",
       "      <td>46.33</td>\n",
       "      <td>7</td>\n",
       "      <td>162.155</td>\n",
       "      <td>3.405.255</td>\n",
       "      <td>Credit card</td>\n",
       "      <td>7.4</td>\n",
       "    </tr>\n",
       "    <tr>\n",
       "      <th>4</th>\n",
       "      <td>10159</td>\n",
       "      <td>17854</td>\n",
       "      <td>02/08/2019</td>\n",
       "      <td>Corporate Gift Ideas Co.</td>\n",
       "      <td>Surabaya</td>\n",
       "      <td>Normal</td>\n",
       "      <td>Male</td>\n",
       "      <td>4812562.0</td>\n",
       "      <td>Sports and travel</td>\n",
       "      <td>86.31</td>\n",
       "      <td>7</td>\n",
       "      <td>302.085</td>\n",
       "      <td>6.343.785</td>\n",
       "      <td>Ewallet</td>\n",
       "      <td>5.3</td>\n",
       "    </tr>\n",
       "    <tr>\n",
       "      <th>5</th>\n",
       "      <td>10168</td>\n",
       "      <td>17855</td>\n",
       "      <td>3/25/2019</td>\n",
       "      <td>Technics Stores Inc.</td>\n",
       "      <td>Yogyakarta</td>\n",
       "      <td>Normal</td>\n",
       "      <td>Male</td>\n",
       "      <td>1781201.0</td>\n",
       "      <td>Electronic accessories</td>\n",
       "      <td>85.39</td>\n",
       "      <td>7</td>\n",
       "      <td>298.865</td>\n",
       "      <td>6.276.165</td>\n",
       "      <td>Ewallet</td>\n",
       "      <td>4.1</td>\n",
       "    </tr>\n",
       "    <tr>\n",
       "      <th>6</th>\n",
       "      <td>10180</td>\n",
       "      <td>17856</td>\n",
       "      <td>2/25/2019</td>\n",
       "      <td>Daedalus Designs Imports</td>\n",
       "      <td>Surabaya</td>\n",
       "      <td>Member</td>\n",
       "      <td>Female</td>\n",
       "      <td>4865140.0</td>\n",
       "      <td>Electronic accessories</td>\n",
       "      <td>68.84</td>\n",
       "      <td>6</td>\n",
       "      <td>20.652</td>\n",
       "      <td>433.692</td>\n",
       "      <td>Ewallet</td>\n",
       "      <td>5.8</td>\n",
       "    </tr>\n",
       "    <tr>\n",
       "      <th>...</th>\n",
       "      <td>...</td>\n",
       "      <td>...</td>\n",
       "      <td>...</td>\n",
       "      <td>...</td>\n",
       "      <td>...</td>\n",
       "      <td>...</td>\n",
       "      <td>...</td>\n",
       "      <td>...</td>\n",
       "      <td>...</td>\n",
       "      <td>...</td>\n",
       "      <td>...</td>\n",
       "      <td>...</td>\n",
       "      <td>...</td>\n",
       "      <td>...</td>\n",
       "      <td>...</td>\n",
       "    </tr>\n",
       "    <tr>\n",
       "      <th>733</th>\n",
       "      <td>10153</td>\n",
       "      <td>18842</td>\n",
       "      <td>03/10/2019</td>\n",
       "      <td>Euro Shopping Channel</td>\n",
       "      <td>Surabaya</td>\n",
       "      <td>Normal</td>\n",
       "      <td>Male</td>\n",
       "      <td>5148799.0</td>\n",
       "      <td>Electronic accessories</td>\n",
       "      <td>58.03</td>\n",
       "      <td>2</td>\n",
       "      <td>5.803</td>\n",
       "      <td>121.863</td>\n",
       "      <td>Ewallet</td>\n",
       "      <td>8.8</td>\n",
       "    </tr>\n",
       "    <tr>\n",
       "      <th>735</th>\n",
       "      <td>10177</td>\n",
       "      <td>18844</td>\n",
       "      <td>2/18/2019</td>\n",
       "      <td>CAF Imports</td>\n",
       "      <td>Yogyakarta</td>\n",
       "      <td>Member</td>\n",
       "      <td>Female</td>\n",
       "      <td>9098675.0</td>\n",
       "      <td>Electronic accessories</td>\n",
       "      <td>60.95</td>\n",
       "      <td>1</td>\n",
       "      <td>30.475</td>\n",
       "      <td>639.975</td>\n",
       "      <td>Ewallet</td>\n",
       "      <td>5.9</td>\n",
       "    </tr>\n",
       "    <tr>\n",
       "      <th>736</th>\n",
       "      <td>10185</td>\n",
       "      <td>18845</td>\n",
       "      <td>1/29/2019</td>\n",
       "      <td>Mini Creations Ltd.</td>\n",
       "      <td>Yogyakarta</td>\n",
       "      <td>Normal</td>\n",
       "      <td>Male</td>\n",
       "      <td>7534734.0</td>\n",
       "      <td>Health and beauty</td>\n",
       "      <td>40.35</td>\n",
       "      <td>1</td>\n",
       "      <td>20.175</td>\n",
       "      <td>423.675</td>\n",
       "      <td>Ewallet</td>\n",
       "      <td>6.2</td>\n",
       "    </tr>\n",
       "    <tr>\n",
       "      <th>737</th>\n",
       "      <td>10196</td>\n",
       "      <td>18846</td>\n",
       "      <td>03/02/2019</td>\n",
       "      <td>Super Scale Inc.</td>\n",
       "      <td>Jakarta</td>\n",
       "      <td>Normal</td>\n",
       "      <td>Female</td>\n",
       "      <td>5968391.0</td>\n",
       "      <td>Home and lifestyle</td>\n",
       "      <td>97.38</td>\n",
       "      <td>10</td>\n",
       "      <td>48.690</td>\n",
       "      <td>1022.49</td>\n",
       "      <td>Ewallet</td>\n",
       "      <td>4.4</td>\n",
       "    </tr>\n",
       "    <tr>\n",
       "      <th>739</th>\n",
       "      <td>10232</td>\n",
       "      <td>18849</td>\n",
       "      <td>2/18/2019</td>\n",
       "      <td>giftsbymail.co.uk</td>\n",
       "      <td>Surabaya</td>\n",
       "      <td>Member</td>\n",
       "      <td>Female</td>\n",
       "      <td>8525488.0</td>\n",
       "      <td>Fashion accessories</td>\n",
       "      <td>88.34</td>\n",
       "      <td>7</td>\n",
       "      <td>30.919</td>\n",
       "      <td>649.299</td>\n",
       "      <td>Cash</td>\n",
       "      <td>6.6</td>\n",
       "    </tr>\n",
       "  </tbody>\n",
       "</table>\n",
       "<p>734 rows × 15 columns</p>\n",
       "</div>"
      ],
      "text/plain": [
       "     IdTransaksi  IdPelanggan        Date             NamaPelanggan  \\\n",
       "0          10107        17850  01/05/2019  Corporate Gift Ideas Co.   \n",
       "2          10134        17852  03/03/2019           Lyon Souveniers   \n",
       "4          10159        17854  02/08/2019  Corporate Gift Ideas Co.   \n",
       "5          10168        17855   3/25/2019      Technics Stores Inc.   \n",
       "6          10180        17856   2/25/2019  Daedalus Designs Imports   \n",
       "..           ...          ...         ...                       ...   \n",
       "733        10153        18842  03/10/2019     Euro Shopping Channel   \n",
       "735        10177        18844   2/18/2019               CAF Imports   \n",
       "736        10185        18845   1/29/2019       Mini Creations Ltd.   \n",
       "737        10196        18846  03/02/2019          Super Scale Inc.   \n",
       "739        10232        18849   2/18/2019         giftsbymail.co.uk   \n",
       "\n",
       "           Kota  Status JenisKelamin  IdProduk               NamaProduk  \\\n",
       "0      Surabaya  Member       Female  2627483.0       Health and beauty   \n",
       "2      Surabaya  Normal         Male  1286255.0      Home and lifestyle   \n",
       "4      Surabaya  Normal         Male  4812562.0       Sports and travel   \n",
       "5    Yogyakarta  Normal         Male  1781201.0  Electronic accessories   \n",
       "6      Surabaya  Member       Female  4865140.0  Electronic accessories   \n",
       "..          ...     ...          ...        ...                     ...   \n",
       "733    Surabaya  Normal         Male  5148799.0  Electronic accessories   \n",
       "735  Yogyakarta  Member       Female  9098675.0  Electronic accessories   \n",
       "736  Yogyakarta  Normal         Male  7534734.0       Health and beauty   \n",
       "737     Jakarta  Normal       Female  5968391.0      Home and lifestyle   \n",
       "739    Surabaya  Member       Female  8525488.0     Fashion accessories   \n",
       "\n",
       "     Harga  Qty    Pajak      Total   Pembayaran  Rating  \n",
       "0    74.69    7  261.415  5.489.715      Ewallet     9.1  \n",
       "2    46.33    7  162.155  3.405.255  Credit card     7.4  \n",
       "4    86.31    7  302.085  6.343.785      Ewallet     5.3  \n",
       "5    85.39    7  298.865  6.276.165      Ewallet     4.1  \n",
       "6    68.84    6   20.652    433.692      Ewallet     5.8  \n",
       "..     ...  ...      ...        ...          ...     ...  \n",
       "733  58.03    2    5.803    121.863      Ewallet     8.8  \n",
       "735  60.95    1   30.475    639.975      Ewallet     5.9  \n",
       "736  40.35    1   20.175    423.675      Ewallet     6.2  \n",
       "737  97.38   10   48.690    1022.49      Ewallet     4.4  \n",
       "739  88.34    7   30.919    649.299         Cash     6.6  \n",
       "\n",
       "[734 rows x 15 columns]"
      ]
     },
     "execution_count": 52,
     "metadata": {},
     "output_type": "execute_result"
    }
   ],
   "source": [
    "#Menghapus Nilai Nan\n",
    "df=df.dropna()\n",
    "df"
   ]
  },
  {
   "cell_type": "code",
   "execution_count": 53,
   "metadata": {},
   "outputs": [
    {
     "name": "stdout",
     "output_type": "stream",
     "text": [
      "<class 'pandas.core.frame.DataFrame'>\n",
      "Int64Index: 734 entries, 0 to 739\n",
      "Data columns (total 15 columns):\n",
      " #   Column         Non-Null Count  Dtype  \n",
      "---  ------         --------------  -----  \n",
      " 0   IdTransaksi    734 non-null    int64  \n",
      " 1   IdPelanggan    734 non-null    int64  \n",
      " 2   Date           734 non-null    object \n",
      " 3   NamaPelanggan  734 non-null    object \n",
      " 4   Kota           734 non-null    object \n",
      " 5   Status         734 non-null    object \n",
      " 6   JenisKelamin   734 non-null    object \n",
      " 7   IdProduk       734 non-null    float64\n",
      " 8   NamaProduk     734 non-null    object \n",
      " 9   Harga          734 non-null    float64\n",
      " 10  Qty            734 non-null    int64  \n",
      " 11  Pajak          734 non-null    float64\n",
      " 12  Total          734 non-null    object \n",
      " 13  Pembayaran     734 non-null    object \n",
      " 14  Rating         734 non-null    float64\n",
      "dtypes: float64(4), int64(3), object(8)\n",
      "memory usage: 91.8+ KB\n"
     ]
    }
   ],
   "source": [
    "df.info()"
   ]
  },
  {
   "cell_type": "markdown",
   "metadata": {},
   "source": [
    "# Bagaimana pola pengeluaran  Laki-laki dan Perempuan. Termasuk dalam kategori apa mereka menghabiskan banyak uang?"
   ]
  },
  {
   "cell_type": "markdown",
   "metadata": {},
   "source": [
    "Grafik A :"
   ]
  },
  {
   "cell_type": "code",
   "execution_count": 54,
   "metadata": {
    "scrolled": false
   },
   "outputs": [
    {
     "data": {
      "image/png": "[encoded data removed]",
      "text/plain": [
       "<Figure size 1008x432 with 1 Axes>"
      ]
     },
     "metadata": {
      "needs_background": "light"
     },
     "output_type": "display_data"
    }
   ],
   "source": [
    "plt.figure(figsize=(14,6))\n",
    "sns.swarmplot(x= \"NamaProduk\", y = \"Rating\", hue = \"JenisKelamin\", data = df).set_title(\"Produk Yang Terjual Berdasarkan Minat Jenis Kelamin\")\n",
    "plt.show()"
   ]
  },
  {
   "cell_type": "markdown",
   "metadata": {},
   "source": [
    "Grafik B :"
   ]
  },
  {
   "cell_type": "code",
   "execution_count": 55,
   "metadata": {
    "scrolled": false
   },
   "outputs": [
    {
     "data": {
      "image/png": "[encoded data removed]",
      "text/plain": [
       "<Figure size 864x360 with 1 Axes>"
      ]
     },
     "metadata": {
      "needs_background": "light"
     },
     "output_type": "display_data"
    }
   ],
   "source": [
    "plt.figure(figsize=(12, 5))\n",
    "plt.title('Total Transaksi Bulanan Berdasarkan Jenis Kelamin')\n",
    "sns.countplot(x='NamaProduk', hue = 'JenisKelamin', data=df)\n",
    "plt.show()"
   ]
  },
  {
   "cell_type": "markdown",
   "metadata": {},
   "source": [
    "Kesimpulan :\n",
    "\n",
    "Pengeluaran Laki-Laki Tertinggi Terletak pada kebutuhan \"Home And LifeStyle\n",
    "\n",
    "Pengeluaran Perempuan Tertinggi Terletak pada kebutuhan Fashion \"Accessories\""
   ]
  },
  {
   "cell_type": "markdown",
   "metadata": {},
   "source": [
    "# Nilai Rating Dari Sebuah Produk"
   ]
  },
  {
   "cell_type": "code",
   "execution_count": 56,
   "metadata": {
    "scrolled": true
   },
   "outputs": [
    {
     "data": {
      "image/png": "[encoded data removed]",
      "text/plain": [
       "<Figure size 720x360 with 1 Axes>"
      ]
     },
     "metadata": {
      "needs_background": "light"
     },
     "output_type": "display_data"
    }
   ],
   "source": [
    "plt.figure(figsize = (10,5))\n",
    "x_ticks = [0,1,2,3,4,5,6,7,8,9,10]\n",
    "sns.barplot(y = df['NamaProduk'], x = df.Rating).set_title(\"Rating Dari Sebuah Produk\")\n",
    "plt.xticks(x_ticks)\n",
    "plt.show()"
   ]
  },
  {
   "cell_type": "markdown",
   "metadata": {},
   "source": [
    "# Tipe Pembayaran Apakah Yang Sering Di gunakan Pada 3 Kota Tersebut ?"
   ]
  },
  {
   "cell_type": "code",
   "execution_count": 58,
   "metadata": {
    "scrolled": true
   },
   "outputs": [
    {
     "data": {
      "application/vnd.plotly.v1+json": {
       "config": {
        "plotlyServerURL": "https://plot.ly"
       },
       "data": [
        {
         "name": "Cash",
         "textposition": "inside",
         "type": "bar",
         "x": [
          "Electronic accessories",
          "Fashion accessories",
          "Food and beverages",
          "Health and beauty",
          "Home and lifestyle",
          "Sports and travel"
         ],
         "xaxis": "x",
         "y": [
          53,
          39,
          38,
          34,
          31,
          36
         ],
         "yaxis": "y"
        },
        {
         "name": "Credit card",
         "textposition": "inside",
         "type": "bar",
         "x": [
          "Electronic accessories",
          "Fashion accessories",
          "Food and beverages",
          "Health and beauty",
          "Home and lifestyle",
          "Sports and travel"
         ],
         "xaxis": "x",
         "y": [
          31,
          42,
          46,
          33,
          39,
          42
         ],
         "yaxis": "y"
        },
        {
         "name": "Ewallet",
         "textposition": "inside",
         "type": "bar",
         "x": [
          "Electronic accessories",
          "Fashion accessories",
          "Food and beverages",
          "Health and beauty",
          "Home and lifestyle",
          "Sports and travel"
         ],
         "xaxis": "x",
         "y": [
          42,
          48,
          42,
          44,
          55,
          39
         ],
         "yaxis": "y"
        }
       ],
       "layout": {
        "annotations": [
         {
          "font": {
           "size": 16
          },
          "showarrow": false,
          "text": " ",
          "x": 0.5,
          "xanchor": "center",
          "xref": "paper",
          "y": 1,
          "yanchor": "bottom",
          "yref": "paper"
         }
        ],
        "height": 400,
        "legend": {
         "title": {
          "text": "Payment:"
         }
        },
        "template": {
         "data": {
          "bar": [
           {
            "error_x": {
             "color": "#2a3f5f"
            },
            "error_y": {
             "color": "#2a3f5f"
            },
            "marker": {
             "line": {
              "color": "#E5ECF6",
              "width": 0.5
             },
             "pattern": {
              "fillmode": "overlay",
              "size": 10,
              "solidity": 0.2
             }
            },
            "type": "bar"
           }
          ],
          "barpolar": [
           {
            "marker": {
             "line": {
              "color": "#E5ECF6",
              "width": 0.5
             },
             "pattern": {
              "fillmode": "overlay",
              "size": 10,
              "solidity": 0.2
             }
            },
            "type": "barpolar"
           }
          ],
          "carpet": [
           {
            "aaxis": {
             "endlinecolor": "#2a3f5f",
             "gridcolor": "white",
             "linecolor": "white",
             "minorgridcolor": "white",
             "startlinecolor": "#2a3f5f"
            },
            "baxis": {
             "endlinecolor": "#2a3f5f",
             "gridcolor": "white",
             "linecolor": "white",
             "minorgridcolor": "white",
             "startlinecolor": "#2a3f5f"
            },
            "type": "carpet"
           }
          ],
          "choropleth": [
           {
            "colorbar": {
             "outlinewidth": 0,
             "ticks": ""
            },
            "type": "choropleth"
           }
          ],
          "contour": [
           {
            "colorbar": {
             "outlinewidth": 0,
             "ticks": ""
            },
            "colorscale": [
             [
              0,
              "#0d0887"
             ],
             [
              0.1111111111111111,
              "#46039f"
             ],
             [
              0.2222222222222222,
              "#7201a8"
             ],
             [
              0.3333333333333333,
              "#9c179e"
             ],
             [
              0.4444444444444444,
              "#bd3786"
             ],
             [
              0.5555555555555556,
              "#d8576b"
             ],
             [
              0.6666666666666666,
              "#ed7953"
             ],
             [
              0.7777777777777778,
              "#fb9f3a"
             ],
             [
              0.8888888888888888,
              "#fdca26"
             ],
             [
              1,
              "#f0f921"
             ]
            ],
            "type": "contour"
           }
          ],
          "contourcarpet": [
           {
            "colorbar": {
             "outlinewidth": 0,
             "ticks": ""
            },
            "type": "contourcarpet"
           }
          ],
          "heatmap": [
           {
            "colorbar": {
             "outlinewidth": 0,
             "ticks": ""
            },
            "colorscale": [
             [
              0,
              "#0d0887"
             ],
             [
              0.1111111111111111,
              "#46039f"
             ],
             [
              0.2222222222222222,
              "#7201a8"
             ],
             [
              0.3333333333333333,
              "#9c179e"
             ],
             [
              0.4444444444444444,
              "#bd3786"
             ],
             [
              0.5555555555555556,
              "#d8576b"
             ],
             [
              0.6666666666666666,
              "#ed7953"
             ],
             [
              0.7777777777777778,
              "#fb9f3a"
             ],
             [
              0.8888888888888888,
              "#fdca26"
             ],
             [
              1,
              "#f0f921"
             ]
            ],
            "type": "heatmap"
           }
          ],
          "heatmapgl": [
           {
            "colorbar": {
             "outlinewidth": 0,
             "ticks": ""
            },
            "colorscale": [
             [
              0,
              "#0d0887"
             ],
             [
              0.1111111111111111,
              "#46039f"
             ],
             [
              0.2222222222222222,
              "#7201a8"
             ],
             [
              0.3333333333333333,
              "#9c179e"
             ],
             [
              0.4444444444444444,
              "#bd3786"
             ],
             [
              0.5555555555555556,
              "#d8576b"
             ],
             [
              0.6666666666666666,
              "#ed7953"
             ],
             [
              0.7777777777777778,
              "#fb9f3a"
             ],
             [
              0.8888888888888888,
              "#fdca26"
             ],
             [
              1,
              "#f0f921"
             ]
            ],
            "type": "heatmapgl"
           }
          ],
          "histogram": [
           {
            "marker": {
             "pattern": {
              "fillmode": "overlay",
              "size": 10,
              "solidity": 0.2
             }
            },
            "type": "histogram"
           }
          ],
          "histogram2d": [
           {
            "colorbar": {
             "outlinewidth": 0,
             "ticks": ""
            },
            "colorscale": [
             [
              0,
              "#0d0887"
             ],
             [
              0.1111111111111111,
              "#46039f"
             ],
             [
              0.2222222222222222,
              "#7201a8"
             ],
             [
              0.3333333333333333,
              "#9c179e"
             ],
             [
              0.4444444444444444,
              "#bd3786"
             ],
             [
              0.5555555555555556,
              "#d8576b"
             ],
             [
              0.6666666666666666,
              "#ed7953"
             ],
             [
              0.7777777777777778,
              "#fb9f3a"
             ],
             [
              0.8888888888888888,
              "#fdca26"
             ],
             [
              1,
              "#f0f921"
             ]
            ],
            "type": "histogram2d"
           }
          ],
          "histogram2dcontour": [
           {
            "colorbar": {
             "outlinewidth": 0,
             "ticks": ""
            },
            "colorscale": [
             [
              0,
              "#0d0887"
             ],
             [
              0.1111111111111111,
              "#46039f"
             ],
             [
              0.2222222222222222,
              "#7201a8"
             ],
             [
              0.3333333333333333,
              "#9c179e"
             ],
             [
              0.4444444444444444,
              "#bd3786"
             ],
             [
              0.5555555555555556,
              "#d8576b"
             ],
             [
              0.6666666666666666,
              "#ed7953"
             ],
             [
              0.7777777777777778,
              "#fb9f3a"
             ],
             [
              0.8888888888888888,
              "#fdca26"
             ],
             [
              1,
              "#f0f921"
             ]
            ],
            "type": "histogram2dcontour"
           }
          ],
          "mesh3d": [
           {
            "colorbar": {
             "outlinewidth": 0,
             "ticks": ""
            },
            "type": "mesh3d"
           }
          ],
          "parcoords": [
           {
            "line": {
             "colorbar": {
              "outlinewidth": 0,
              "ticks": ""
             }
            },
            "type": "parcoords"
           }
          ],
          "pie": [
           {
            "automargin": true,
            "type": "pie"
           }
          ],
          "scatter": [
           {
            "marker": {
             "colorbar": {
              "outlinewidth": 0,
              "ticks": ""
             }
            },
            "type": "scatter"
           }
          ],
          "scatter3d": [
           {
            "line": {
             "colorbar": {
              "outlinewidth": 0,
              "ticks": ""
             }
            },
            "marker": {
             "colorbar": {
              "outlinewidth": 0,
              "ticks": ""
             }
            },
            "type": "scatter3d"
           }
          ],
          "scattercarpet": [
           {
            "marker": {
             "colorbar": {
              "outlinewidth": 0,
              "ticks": ""
             }
            },
            "type": "scattercarpet"
           }
          ],
          "scattergeo": [
           {
            "marker": {
             "colorbar": {
              "outlinewidth": 0,
              "ticks": ""
             }
            },
            "type": "scattergeo"
           }
          ],
          "scattergl": [
           {
            "marker": {
             "colorbar": {
              "outlinewidth": 0,
              "ticks": ""
             }
            },
            "type": "scattergl"
           }
          ],
          "scattermapbox": [
           {
            "marker": {
             "colorbar": {
              "outlinewidth": 0,
              "ticks": ""
             }
            },
            "type": "scattermapbox"
           }
          ],
          "scatterpolar": [
           {
            "marker": {
             "colorbar": {
              "outlinewidth": 0,
              "ticks": ""
             }
            },
            "type": "scatterpolar"
           }
          ],
          "scatterpolargl": [
           {
            "marker": {
             "colorbar": {
              "outlinewidth": 0,
              "ticks": ""
             }
            },
            "type": "scatterpolargl"
           }
          ],
          "scatterternary": [
           {
            "marker": {
             "colorbar": {
              "outlinewidth": 0,
              "ticks": ""
             }
            },
            "type": "scatterternary"
           }
          ],
          "surface": [
           {
            "colorbar": {
             "outlinewidth": 0,
             "ticks": ""
            },
            "colorscale": [
             [
              0,
              "#0d0887"
             ],
             [
              0.1111111111111111,
              "#46039f"
             ],
             [
              0.2222222222222222,
              "#7201a8"
             ],
             [
              0.3333333333333333,
              "#9c179e"
             ],
             [
              0.4444444444444444,
              "#bd3786"
             ],
             [
              0.5555555555555556,
              "#d8576b"
             ],
             [
              0.6666666666666666,
              "#ed7953"
             ],
             [
              0.7777777777777778,
              "#fb9f3a"
             ],
             [
              0.8888888888888888,
              "#fdca26"
             ],
             [
              1,
              "#f0f921"
             ]
            ],
            "type": "surface"
           }
          ],
          "table": [
           {
            "cells": {
             "fill": {
              "color": "#EBF0F8"
             },
             "line": {
              "color": "white"
             }
            },
            "header": {
             "fill": {
              "color": "#C8D4E3"
             },
             "line": {
              "color": "white"
             }
            },
            "type": "table"
           }
          ]
         },
         "layout": {
          "annotationdefaults": {
           "arrowcolor": "#2a3f5f",
           "arrowhead": 0,
           "arrowwidth": 1
          },
          "autotypenumbers": "strict",
          "coloraxis": {
           "colorbar": {
            "outlinewidth": 0,
            "ticks": ""
           }
          },
          "colorscale": {
           "diverging": [
            [
             0,
             "#8e0152"
            ],
            [
             0.1,
             "#c51b7d"
            ],
            [
             0.2,
             "#de77ae"
            ],
            [
             0.3,
             "#f1b6da"
            ],
            [
             0.4,
             "#fde0ef"
            ],
            [
             0.5,
             "#f7f7f7"
            ],
            [
             0.6,
             "#e6f5d0"
            ],
            [
             0.7,
             "#b8e186"
            ],
            [
             0.8,
             "#7fbc41"
            ],
            [
             0.9,
             "#4d9221"
            ],
            [
             1,
             "#276419"
            ]
           ],
           "sequential": [
            [
             0,
             "#0d0887"
            ],
            [
             0.1111111111111111,
             "#46039f"
            ],
            [
             0.2222222222222222,
             "#7201a8"
            ],
            [
             0.3333333333333333,
             "#9c179e"
            ],
            [
             0.4444444444444444,
             "#bd3786"
            ],
            [
             0.5555555555555556,
             "#d8576b"
            ],
            [
             0.6666666666666666,
             "#ed7953"
            ],
            [
             0.7777777777777778,
             "#fb9f3a"
            ],
            [
             0.8888888888888888,
             "#fdca26"
            ],
            [
             1,
             "#f0f921"
            ]
           ],
           "sequentialminus": [
            [
             0,
             "#0d0887"
            ],
            [
             0.1111111111111111,
             "#46039f"
            ],
            [
             0.2222222222222222,
             "#7201a8"
            ],
            [
             0.3333333333333333,
             "#9c179e"
            ],
            [
             0.4444444444444444,
             "#bd3786"
            ],
            [
             0.5555555555555556,
             "#d8576b"
            ],
            [
             0.6666666666666666,
             "#ed7953"
            ],
            [
             0.7777777777777778,
             "#fb9f3a"
            ],
            [
             0.8888888888888888,
             "#fdca26"
            ],
            [
             1,
             "#f0f921"
            ]
           ]
          },
          "colorway": [
           "#636efa",
           "#EF553B",
           "#00cc96",
           "#ab63fa",
           "#FFA15A",
           "#19d3f3",
           "#FF6692",
           "#B6E880",
           "#FF97FF",
           "#FECB52"
          ],
          "font": {
           "color": "#2a3f5f"
          },
          "geo": {
           "bgcolor": "white",
           "lakecolor": "white",
           "landcolor": "#E5ECF6",
           "showlakes": true,
           "showland": true,
           "subunitcolor": "white"
          },
          "hoverlabel": {
           "align": "left"
          },
          "hovermode": "closest",
          "mapbox": {
           "style": "light"
          },
          "paper_bgcolor": "white",
          "plot_bgcolor": "#E5ECF6",
          "polar": {
           "angularaxis": {
            "gridcolor": "white",
            "linecolor": "white",
            "ticks": ""
           },
           "bgcolor": "#E5ECF6",
           "radialaxis": {
            "gridcolor": "white",
            "linecolor": "white",
            "ticks": ""
           }
          },
          "scene": {
           "xaxis": {
            "backgroundcolor": "#E5ECF6",
            "gridcolor": "white",
            "gridwidth": 2,
            "linecolor": "white",
            "showbackground": true,
            "ticks": "",
            "zerolinecolor": "white"
           },
           "yaxis": {
            "backgroundcolor": "#E5ECF6",
            "gridcolor": "white",
            "gridwidth": 2,
            "linecolor": "white",
            "showbackground": true,
            "ticks": "",
            "zerolinecolor": "white"
           },
           "zaxis": {
            "backgroundcolor": "#E5ECF6",
            "gridcolor": "white",
            "gridwidth": 2,
            "linecolor": "white",
            "showbackground": true,
            "ticks": "",
            "zerolinecolor": "white"
           }
          },
          "shapedefaults": {
           "line": {
            "color": "#2a3f5f"
           }
          },
          "ternary": {
           "aaxis": {
            "gridcolor": "white",
            "linecolor": "white",
            "ticks": ""
           },
           "baxis": {
            "gridcolor": "white",
            "linecolor": "white",
            "ticks": ""
           },
           "bgcolor": "#E5ECF6",
           "caxis": {
            "gridcolor": "white",
            "linecolor": "white",
            "ticks": ""
           }
          },
          "title": {
           "x": 0.05
          },
          "xaxis": {
           "automargin": true,
           "gridcolor": "white",
           "linecolor": "white",
           "ticks": "",
           "title": {
            "standoff": 15
           },
           "zerolinecolor": "white",
           "zerolinewidth": 2
          },
          "yaxis": {
           "automargin": true,
           "gridcolor": "white",
           "linecolor": "white",
           "ticks": "",
           "title": {
            "standoff": 15
           },
           "zerolinecolor": "white",
           "zerolinewidth": 2
          }
         }
        },
        "title": {
         "text": "Tipe Pembayaran Sesuai Produk Masing-Masing "
        },
        "uniformtext": {
         "minsize": 12,
         "mode": "hide"
        },
        "width": 1000,
        "xaxis": {
         "anchor": "y",
         "domain": [
          0,
          1
         ]
        },
        "yaxis": {
         "anchor": "x",
         "domain": [
          0,
          1
         ]
        }
       }
      },
      "text/html": [
       "<div>                            <div id=\"f1ad88b6-b965-4027-9ee6-40839a8cfe9b\" class=\"plotly-graph-div\" style=\"height:400px; width:1000px;\"></div>            <script type=\"text/javascript\">                require([\"plotly\"], function(Plotly) {                    window.PLOTLYENV=window.PLOTLYENV || {};                                    if (document.getElementById(\"f1ad88b6-b965-4027-9ee6-40839a8cfe9b\")) {                    Plotly.newPlot(                        \"f1ad88b6-b965-4027-9ee6-40839a8cfe9b\",                        [{\"name\":\"Cash\",\"textposition\":\"inside\",\"type\":\"bar\",\"x\":[\"Electronic accessories\",\"Fashion accessories\",\"Food and beverages\",\"Health and beauty\",\"Home and lifestyle\",\"Sports and travel\"],\"xaxis\":\"x\",\"y\":[53,39,38,34,31,36],\"yaxis\":\"y\"},{\"name\":\"Credit card\",\"textposition\":\"inside\",\"type\":\"bar\",\"x\":[\"Electronic accessories\",\"Fashion accessories\",\"Food and beverages\",\"Health and beauty\",\"Home and lifestyle\",\"Sports and travel\"],\"xaxis\":\"x\",\"y\":[31,42,46,33,39,42],\"yaxis\":\"y\"},{\"name\":\"Ewallet\",\"textposition\":\"inside\",\"type\":\"bar\",\"x\":[\"Electronic accessories\",\"Fashion accessories\",\"Food and beverages\",\"Health and beauty\",\"Home and lifestyle\",\"Sports and travel\"],\"xaxis\":\"x\",\"y\":[42,48,42,44,55,39],\"yaxis\":\"y\"}],                        {\"annotations\":[{\"font\":{\"size\":16},\"showarrow\":false,\"text\":\" \",\"x\":0.5,\"xanchor\":\"center\",\"xref\":\"paper\",\"y\":1.0,\"yanchor\":\"bottom\",\"yref\":\"paper\"}],\"height\":400,\"legend\":{\"title\":{\"text\":\"Payment:\"}},\"template\":{\"data\":{\"bar\":[{\"error_x\":{\"color\":\"#2a3f5f\"},\"error_y\":{\"color\":\"#2a3f5f\"},\"marker\":{\"line\":{\"color\":\"#E5ECF6\",\"width\":0.5},\"pattern\":{\"fillmode\":\"overlay\",\"size\":10,\"solidity\":0.2}},\"type\":\"bar\"}],\"barpolar\":[{\"marker\":{\"line\":{\"color\":\"#E5ECF6\",\"width\":0.5},\"pattern\":{\"fillmode\":\"overlay\",\"size\":10,\"solidity\":0.2}},\"type\":\"barpolar\"}],\"carpet\":[{\"aaxis\":{\"endlinecolor\":\"#2a3f5f\",\"gridcolor\":\"white\",\"linecolor\":\"white\",\"minorgridcolor\":\"white\",\"startlinecolor\":\"#2a3f5f\"},\"baxis\":{\"endlinecolor\":\"#2a3f5f\",\"gridcolor\":\"white\",\"linecolor\":\"white\",\"minorgridcolor\":\"white\",\"startlinecolor\":\"#2a3f5f\"},\"type\":\"carpet\"}],\"choropleth\":[{\"colorbar\":{\"outlinewidth\":0,\"ticks\":\"\"},\"type\":\"choropleth\"}],\"contour\":[{\"colorbar\":{\"outlinewidth\":0,\"ticks\":\"\"},\"colorscale\":[[0.0,\"#0d0887\"],[0.1111111111111111,\"#46039f\"],[0.2222222222222222,\"#7201a8\"],[0.3333333333333333,\"#9c179e\"],[0.4444444444444444,\"#bd3786\"],[0.5555555555555556,\"#d8576b\"],[0.6666666666666666,\"#ed7953\"],[0.7777777777777778,\"#fb9f3a\"],[0.8888888888888888,\"#fdca26\"],[1.0,\"#f0f921\"]],\"type\":\"contour\"}],\"contourcarpet\":[{\"colorbar\":{\"outlinewidth\":0,\"ticks\":\"\"},\"type\":\"contourcarpet\"}],\"heatmap\":[{\"colorbar\":{\"outlinewidth\":0,\"ticks\":\"\"},\"colorscale\":[[0.0,\"#0d0887\"],[0.1111111111111111,\"#46039f\"],[0.2222222222222222,\"#7201a8\"],[0.3333333333333333,\"#9c179e\"],[0.4444444444444444,\"#bd3786\"],[0.5555555555555556,\"#d8576b\"],[0.6666666666666666,\"#ed7953\"],[0.7777777777777778,\"#fb9f3a\"],[0.8888888888888888,\"#fdca26\"],[1.0,\"#f0f921\"]],\"type\":\"heatmap\"}],\"heatmapgl\":[{\"colorbar\":{\"outlinewidth\":0,\"ticks\":\"\"},\"colorscale\":[[0.0,\"#0d0887\"],[0.1111111111111111,\"#46039f\"],[0.2222222222222222,\"#7201a8\"],[0.3333333333333333,\"#9c179e\"],[0.4444444444444444,\"#bd3786\"],[0.5555555555555556,\"#d8576b\"],[0.6666666666666666,\"#ed7953\"],[0.7777777777777778,\"#fb9f3a\"],[0.8888888888888888,\"#fdca26\"],[1.0,\"#f0f921\"]],\"type\":\"heatmapgl\"}],\"histogram\":[{\"marker\":{\"pattern\":{\"fillmode\":\"overlay\",\"size\":10,\"solidity\":0.2}},\"type\":\"histogram\"}],\"histogram2d\":[{\"colorbar\":{\"outlinewidth\":0,\"ticks\":\"\"},\"colorscale\":[[0.0,\"#0d0887\"],[0.1111111111111111,\"#46039f\"],[0.2222222222222222,\"#7201a8\"],[0.3333333333333333,\"#9c179e\"],[0.4444444444444444,\"#bd3786\"],[0.5555555555555556,\"#d8576b\"],[0.6666666666666666,\"#ed7953\"],[0.7777777777777778,\"#fb9f3a\"],[0.8888888888888888,\"#fdca26\"],[1.0,\"#f0f921\"]],\"type\":\"histogram2d\"}],\"histogram2dcontour\":[{\"colorbar\":{\"outlinewidth\":0,\"ticks\":\"\"},\"colorscale\":[[0.0,\"#0d0887\"],[0.1111111111111111,\"#46039f\"],[0.2222222222222222,\"#7201a8\"],[0.3333333333333333,\"#9c179e\"],[0.4444444444444444,\"#bd3786\"],[0.5555555555555556,\"#d8576b\"],[0.6666666666666666,\"#ed7953\"],[0.7777777777777778,\"#fb9f3a\"],[0.8888888888888888,\"#fdca26\"],[1.0,\"#f0f921\"]],\"type\":\"histogram2dcontour\"}],\"mesh3d\":[{\"colorbar\":{\"outlinewidth\":0,\"ticks\":\"\"},\"type\":\"mesh3d\"}],\"parcoords\":[{\"line\":{\"colorbar\":{\"outlinewidth\":0,\"ticks\":\"\"}},\"type\":\"parcoords\"}],\"pie\":[{\"automargin\":true,\"type\":\"pie\"}],\"scatter\":[{\"marker\":{\"colorbar\":{\"outlinewidth\":0,\"ticks\":\"\"}},\"type\":\"scatter\"}],\"scatter3d\":[{\"line\":{\"colorbar\":{\"outlinewidth\":0,\"ticks\":\"\"}},\"marker\":{\"colorbar\":{\"outlinewidth\":0,\"ticks\":\"\"}},\"type\":\"scatter3d\"}],\"scattercarpet\":[{\"marker\":{\"colorbar\":{\"outlinewidth\":0,\"ticks\":\"\"}},\"type\":\"scattercarpet\"}],\"scattergeo\":[{\"marker\":{\"colorbar\":{\"outlinewidth\":0,\"ticks\":\"\"}},\"type\":\"scattergeo\"}],\"scattergl\":[{\"marker\":{\"colorbar\":{\"outlinewidth\":0,\"ticks\":\"\"}},\"type\":\"scattergl\"}],\"scattermapbox\":[{\"marker\":{\"colorbar\":{\"outlinewidth\":0,\"ticks\":\"\"}},\"type\":\"scattermapbox\"}],\"scatterpolar\":[{\"marker\":{\"colorbar\":{\"outlinewidth\":0,\"ticks\":\"\"}},\"type\":\"scatterpolar\"}],\"scatterpolargl\":[{\"marker\":{\"colorbar\":{\"outlinewidth\":0,\"ticks\":\"\"}},\"type\":\"scatterpolargl\"}],\"scatterternary\":[{\"marker\":{\"colorbar\":{\"outlinewidth\":0,\"ticks\":\"\"}},\"type\":\"scatterternary\"}],\"surface\":[{\"colorbar\":{\"outlinewidth\":0,\"ticks\":\"\"},\"colorscale\":[[0.0,\"#0d0887\"],[0.1111111111111111,\"#46039f\"],[0.2222222222222222,\"#7201a8\"],[0.3333333333333333,\"#9c179e\"],[0.4444444444444444,\"#bd3786\"],[0.5555555555555556,\"#d8576b\"],[0.6666666666666666,\"#ed7953\"],[0.7777777777777778,\"#fb9f3a\"],[0.8888888888888888,\"#fdca26\"],[1.0,\"#f0f921\"]],\"type\":\"surface\"}],\"table\":[{\"cells\":{\"fill\":{\"color\":\"#EBF0F8\"},\"line\":{\"color\":\"white\"}},\"header\":{\"fill\":{\"color\":\"#C8D4E3\"},\"line\":{\"color\":\"white\"}},\"type\":\"table\"}]},\"layout\":{\"annotationdefaults\":{\"arrowcolor\":\"#2a3f5f\",\"arrowhead\":0,\"arrowwidth\":1},\"autotypenumbers\":\"strict\",\"coloraxis\":{\"colorbar\":{\"outlinewidth\":0,\"ticks\":\"\"}},\"colorscale\":{\"diverging\":[[0,\"#8e0152\"],[0.1,\"#c51b7d\"],[0.2,\"#de77ae\"],[0.3,\"#f1b6da\"],[0.4,\"#fde0ef\"],[0.5,\"#f7f7f7\"],[0.6,\"#e6f5d0\"],[0.7,\"#b8e186\"],[0.8,\"#7fbc41\"],[0.9,\"#4d9221\"],[1,\"#276419\"]],\"sequential\":[[0.0,\"#0d0887\"],[0.1111111111111111,\"#46039f\"],[0.2222222222222222,\"#7201a8\"],[0.3333333333333333,\"#9c179e\"],[0.4444444444444444,\"#bd3786\"],[0.5555555555555556,\"#d8576b\"],[0.6666666666666666,\"#ed7953\"],[0.7777777777777778,\"#fb9f3a\"],[0.8888888888888888,\"#fdca26\"],[1.0,\"#f0f921\"]],\"sequentialminus\":[[0.0,\"#0d0887\"],[0.1111111111111111,\"#46039f\"],[0.2222222222222222,\"#7201a8\"],[0.3333333333333333,\"#9c179e\"],[0.4444444444444444,\"#bd3786\"],[0.5555555555555556,\"#d8576b\"],[0.6666666666666666,\"#ed7953\"],[0.7777777777777778,\"#fb9f3a\"],[0.8888888888888888,\"#fdca26\"],[1.0,\"#f0f921\"]]},\"colorway\":[\"#636efa\",\"#EF553B\",\"#00cc96\",\"#ab63fa\",\"#FFA15A\",\"#19d3f3\",\"#FF6692\",\"#B6E880\",\"#FF97FF\",\"#FECB52\"],\"font\":{\"color\":\"#2a3f5f\"},\"geo\":{\"bgcolor\":\"white\",\"lakecolor\":\"white\",\"landcolor\":\"#E5ECF6\",\"showlakes\":true,\"showland\":true,\"subunitcolor\":\"white\"},\"hoverlabel\":{\"align\":\"left\"},\"hovermode\":\"closest\",\"mapbox\":{\"style\":\"light\"},\"paper_bgcolor\":\"white\",\"plot_bgcolor\":\"#E5ECF6\",\"polar\":{\"angularaxis\":{\"gridcolor\":\"white\",\"linecolor\":\"white\",\"ticks\":\"\"},\"bgcolor\":\"#E5ECF6\",\"radialaxis\":{\"gridcolor\":\"white\",\"linecolor\":\"white\",\"ticks\":\"\"}},\"scene\":{\"xaxis\":{\"backgroundcolor\":\"#E5ECF6\",\"gridcolor\":\"white\",\"gridwidth\":2,\"linecolor\":\"white\",\"showbackground\":true,\"ticks\":\"\",\"zerolinecolor\":\"white\"},\"yaxis\":{\"backgroundcolor\":\"#E5ECF6\",\"gridcolor\":\"white\",\"gridwidth\":2,\"linecolor\":\"white\",\"showbackground\":true,\"ticks\":\"\",\"zerolinecolor\":\"white\"},\"zaxis\":{\"backgroundcolor\":\"#E5ECF6\",\"gridcolor\":\"white\",\"gridwidth\":2,\"linecolor\":\"white\",\"showbackground\":true,\"ticks\":\"\",\"zerolinecolor\":\"white\"}},\"shapedefaults\":{\"line\":{\"color\":\"#2a3f5f\"}},\"ternary\":{\"aaxis\":{\"gridcolor\":\"white\",\"linecolor\":\"white\",\"ticks\":\"\"},\"baxis\":{\"gridcolor\":\"white\",\"linecolor\":\"white\",\"ticks\":\"\"},\"bgcolor\":\"#E5ECF6\",\"caxis\":{\"gridcolor\":\"white\",\"linecolor\":\"white\",\"ticks\":\"\"}},\"title\":{\"x\":0.05},\"xaxis\":{\"automargin\":true,\"gridcolor\":\"white\",\"linecolor\":\"white\",\"ticks\":\"\",\"title\":{\"standoff\":15},\"zerolinecolor\":\"white\",\"zerolinewidth\":2},\"yaxis\":{\"automargin\":true,\"gridcolor\":\"white\",\"linecolor\":\"white\",\"ticks\":\"\",\"title\":{\"standoff\":15},\"zerolinecolor\":\"white\",\"zerolinewidth\":2}}},\"title\":{\"text\":\"Tipe Pembayaran Sesuai Produk Masing-Masing \"},\"uniformtext\":{\"minsize\":12,\"mode\":\"hide\"},\"width\":1000,\"xaxis\":{\"anchor\":\"y\",\"domain\":[0.0,1.0]},\"yaxis\":{\"anchor\":\"x\",\"domain\":[0.0,1.0]}},                        {\"responsive\": true}                    ).then(function(){\n",
       "                            \n",
       "var gd = document.getElementById('f1ad88b6-b965-4027-9ee6-40839a8cfe9b');\n",
       "var x = new MutationObserver(function (mutations, observer) {{\n",
       "        var display = window.getComputedStyle(gd).display;\n",
       "        if (!display || display === 'none') {{\n",
       "            console.log([gd, 'removed!']);\n",
       "            Plotly.purge(gd);\n",
       "            observer.disconnect();\n",
       "        }}\n",
       "}});\n",
       "\n",
       "// Listen for the removal of the full notebook cells\n",
       "var notebookContainer = gd.closest('#notebook-container');\n",
       "if (notebookContainer) {{\n",
       "    x.observe(notebookContainer, {childList: true});\n",
       "}}\n",
       "\n",
       "// Listen for the clearing of the current output cell\n",
       "var outputEl = gd.closest('.output');\n",
       "if (outputEl) {{\n",
       "    x.observe(outputEl, {childList: true});\n",
       "}}\n",
       "\n",
       "                        })                };                });            </script>        </div>"
      ]
     },
     "metadata": {},
     "output_type": "display_data"
    }
   ],
   "source": [
    "fig = make_subplots(rows=1, \n",
    "                    cols=1, \n",
    "#                     specs=[[{'type':'domain'}, {'type':'domain'}]],\n",
    "                    subplot_titles=(' '))\n",
    "\n",
    "feature = [\"NamaProduk\", 'Pembayaran']\n",
    "data2 = pd.crosstab(df[feature[0]], df[feature[1]])\n",
    "data2['NamaProduk'] = data2.index\n",
    "\n",
    "labels = data2['NamaProduk'].tolist()\n",
    "values1 = data2['Cash'].tolist()\n",
    "values2 = data2['Credit card'].tolist()\n",
    "values3 = data2['Ewallet'].tolist()\n",
    "\n",
    "fig.add_trace(go.Bar(\n",
    "                    x=labels,\n",
    "                    y=values1, \n",
    "                    name='Cash'),\n",
    "                    1,1)\n",
    "\n",
    "fig.add_trace(go.Bar(\n",
    "                    x=labels,\n",
    "                    y=values2, \n",
    "                    name='Credit card'),\n",
    "                    1,1)\n",
    "\n",
    "fig.add_trace(go.Bar(\n",
    "                    x=labels,\n",
    "                    y=values3, \n",
    "                    name='Ewallet'),\n",
    "                    1,1)\n",
    "\n",
    "fig.update_traces(textposition='inside')\n",
    "fig.update_layout(uniformtext_minsize=12, uniformtext_mode='hide')\n",
    "fig['layout'].update(height=400, \n",
    "                     width=1000, \n",
    "                     title='Tipe Pembayaran Sesuai Produk Masing-Masing ',\n",
    "                    legend_title=\"Payment:\")\n",
    "fig.show()"
   ]
  },
  {
   "cell_type": "markdown",
   "metadata": {},
   "source": [
    "Kesimpulan : \n",
    "    Tipe Pembayaran yang Paling Sering Digunakan adalah tipe \"Ewallet\" dengan jumlah 56 data pada Kategori \"Home And Lifestyle\" \n"
   ]
  },
  {
   "cell_type": "markdown",
   "metadata": {},
   "source": [
    "# Negara Yang Paling Profit Digunakan Para Pembisnis? Dan Produk apa yang Paling Laris Di Kota Tersebut?"
   ]
  },
  {
   "cell_type": "markdown",
   "metadata": {},
   "source": [
    "Grafik A :"
   ]
  },
  {
   "cell_type": "code",
   "execution_count": 59,
   "metadata": {
    "scrolled": false
   },
   "outputs": [
    {
     "data": {
      "image/png": "[encoded data removed]",
      "text/plain": [
       "<Figure size 576x432 with 1 Axes>"
      ]
     },
     "metadata": {
      "needs_background": "light"
     },
     "output_type": "display_data"
    }
   ],
   "source": [
    "plt.figure(figsize=(8,6))\n",
    "sns.countplot(y ='NamaProduk', hue = \"Kota\", data = df) \n",
    "plt.xlabel('Count')\n",
    "plt.show()"
   ]
  },
  {
   "cell_type": "markdown",
   "metadata": {},
   "source": [
    "Grafik B:"
   ]
  },
  {
   "cell_type": "code",
   "execution_count": 60,
   "metadata": {
    "scrolled": true
   },
   "outputs": [
    {
     "data": {
      "application/vnd.plotly.v1+json": {
       "config": {
        "plotlyServerURL": "https://plot.ly"
       },
       "data": [
        {
         "name": "Electronic accessories",
         "textposition": "inside",
         "type": "bar",
         "x": [
          "Jakarta",
          "Surabaya",
          "Yogyakarta"
         ],
         "xaxis": "x",
         "y": [
          40,
          50,
          36
         ],
         "yaxis": "y"
        },
        {
         "name": "Fashion accessories",
         "textposition": "inside",
         "type": "bar",
         "x": [
          "Jakarta",
          "Surabaya",
          "Yogyakarta"
         ],
         "xaxis": "x",
         "y": [
          46,
          39,
          44
         ],
         "yaxis": "y"
        },
        {
         "name": "Food and beverages",
         "textposition": "inside",
         "type": "bar",
         "x": [
          "Jakarta",
          "Surabaya",
          "Yogyakarta"
         ],
         "xaxis": "x",
         "y": [
          36,
          43,
          47
         ],
         "yaxis": "y"
        },
        {
         "name": "Health and beauty",
         "textposition": "inside",
         "type": "bar",
         "x": [
          "Jakarta",
          "Surabaya",
          "Yogyakarta"
         ],
         "xaxis": "x",
         "y": [
          37,
          35,
          39
         ],
         "yaxis": "y"
        },
        {
         "name": "Home and lifestyle",
         "textposition": "inside",
         "type": "bar",
         "x": [
          "Jakarta",
          "Surabaya",
          "Yogyakarta"
         ],
         "xaxis": "x",
         "y": [
          41,
          49,
          35
         ],
         "yaxis": "y"
        },
        {
         "name": "Sports and travel",
         "textposition": "inside",
         "type": "bar",
         "x": [
          "Jakarta",
          "Surabaya",
          "Yogyakarta"
         ],
         "xaxis": "x",
         "y": [
          43,
          40,
          34
         ],
         "yaxis": "y"
        }
       ],
       "layout": {
        "annotations": [
         {
          "font": {
           "size": 16
          },
          "showarrow": false,
          "text": " ",
          "x": 0.5,
          "xanchor": "center",
          "xref": "paper",
          "y": 1,
          "yanchor": "bottom",
          "yref": "paper"
         }
        ],
        "height": 400,
        "legend": {
         "title": {
          "text": "Product:"
         }
        },
        "template": {
         "data": {
          "bar": [
           {
            "error_x": {
             "color": "#2a3f5f"
            },
            "error_y": {
             "color": "#2a3f5f"
            },
            "marker": {
             "line": {
              "color": "#E5ECF6",
              "width": 0.5
             },
             "pattern": {
              "fillmode": "overlay",
              "size": 10,
              "solidity": 0.2
             }
            },
            "type": "bar"
           }
          ],
          "barpolar": [
           {
            "marker": {
             "line": {
              "color": "#E5ECF6",
              "width": 0.5
             },
             "pattern": {
              "fillmode": "overlay",
              "size": 10,
              "solidity": 0.2
             }
            },
            "type": "barpolar"
           }
          ],
          "carpet": [
           {
            "aaxis": {
             "endlinecolor": "#2a3f5f",
             "gridcolor": "white",
             "linecolor": "white",
             "minorgridcolor": "white",
             "startlinecolor": "#2a3f5f"
            },
            "baxis": {
             "endlinecolor": "#2a3f5f",
             "gridcolor": "white",
             "linecolor": "white",
             "minorgridcolor": "white",
             "startlinecolor": "#2a3f5f"
            },
            "type": "carpet"
           }
          ],
          "choropleth": [
           {
            "colorbar": {
             "outlinewidth": 0,
             "ticks": ""
            },
            "type": "choropleth"
           }
          ],
          "contour": [
           {
            "colorbar": {
             "outlinewidth": 0,
             "ticks": ""
            },
            "colorscale": [
             [
              0,
              "#0d0887"
             ],
             [
              0.1111111111111111,
              "#46039f"
             ],
             [
              0.2222222222222222,
              "#7201a8"
             ],
             [
              0.3333333333333333,
              "#9c179e"
             ],
             [
              0.4444444444444444,
              "#bd3786"
             ],
             [
              0.5555555555555556,
              "#d8576b"
             ],
             [
              0.6666666666666666,
              "#ed7953"
             ],
             [
              0.7777777777777778,
              "#fb9f3a"
             ],
             [
              0.8888888888888888,
              "#fdca26"
             ],
             [
              1,
              "#f0f921"
             ]
            ],
            "type": "contour"
           }
          ],
          "contourcarpet": [
           {
            "colorbar": {
             "outlinewidth": 0,
             "ticks": ""
            },
            "type": "contourcarpet"
           }
          ],
          "heatmap": [
           {
            "colorbar": {
             "outlinewidth": 0,
             "ticks": ""
            },
            "colorscale": [
             [
              0,
              "#0d0887"
             ],
             [
              0.1111111111111111,
              "#46039f"
             ],
             [
              0.2222222222222222,
              "#7201a8"
             ],
             [
              0.3333333333333333,
              "#9c179e"
             ],
             [
              0.4444444444444444,
              "#bd3786"
             ],
             [
              0.5555555555555556,
              "#d8576b"
             ],
             [
              0.6666666666666666,
              "#ed7953"
             ],
             [
              0.7777777777777778,
              "#fb9f3a"
             ],
             [
              0.8888888888888888,
              "#fdca26"
             ],
             [
              1,
              "#f0f921"
             ]
            ],
            "type": "heatmap"
           }
          ],
          "heatmapgl": [
           {
            "colorbar": {
             "outlinewidth": 0,
             "ticks": ""
            },
            "colorscale": [
             [
              0,
              "#0d0887"
             ],
             [
              0.1111111111111111,
              "#46039f"
             ],
             [
              0.2222222222222222,
              "#7201a8"
             ],
             [
              0.3333333333333333,
              "#9c179e"
             ],
             [
              0.4444444444444444,
              "#bd3786"
             ],
             [
              0.5555555555555556,
              "#d8576b"
             ],
             [
              0.6666666666666666,
              "#ed7953"
             ],
             [
              0.7777777777777778,
              "#fb9f3a"
             ],
             [
              0.8888888888888888,
              "#fdca26"
             ],
             [
              1,
              "#f0f921"
             ]
            ],
            "type": "heatmapgl"
           }
          ],
          "histogram": [
           {
            "marker": {
             "pattern": {
              "fillmode": "overlay",
              "size": 10,
              "solidity": 0.2
             }
            },
            "type": "histogram"
           }
          ],
          "histogram2d": [
           {
            "colorbar": {
             "outlinewidth": 0,
             "ticks": ""
            },
            "colorscale": [
             [
              0,
              "#0d0887"
             ],
             [
              0.1111111111111111,
              "#46039f"
             ],
             [
              0.2222222222222222,
              "#7201a8"
             ],
             [
              0.3333333333333333,
              "#9c179e"
             ],
             [
              0.4444444444444444,
              "#bd3786"
             ],
             [
              0.5555555555555556,
              "#d8576b"
             ],
             [
              0.6666666666666666,
              "#ed7953"
             ],
             [
              0.7777777777777778,
              "#fb9f3a"
             ],
             [
              0.8888888888888888,
              "#fdca26"
             ],
             [
              1,
              "#f0f921"
             ]
            ],
            "type": "histogram2d"
           }
          ],
          "histogram2dcontour": [
           {
            "colorbar": {
             "outlinewidth": 0,
             "ticks": ""
            },
            "colorscale": [
             [
              0,
              "#0d0887"
             ],
             [
              0.1111111111111111,
              "#46039f"
             ],
             [
              0.2222222222222222,
              "#7201a8"
             ],
             [
              0.3333333333333333,
              "#9c179e"
             ],
             [
              0.4444444444444444,
              "#bd3786"
             ],
             [
              0.5555555555555556,
              "#d8576b"
             ],
             [
              0.6666666666666666,
              "#ed7953"
             ],
             [
              0.7777777777777778,
              "#fb9f3a"
             ],
             [
              0.8888888888888888,
              "#fdca26"
             ],
             [
              1,
              "#f0f921"
             ]
            ],
            "type": "histogram2dcontour"
           }
          ],
          "mesh3d": [
           {
            "colorbar": {
             "outlinewidth": 0,
             "ticks": ""
            },
            "type": "mesh3d"
           }
          ],
          "parcoords": [
           {
            "line": {
             "colorbar": {
              "outlinewidth": 0,
              "ticks": ""
             }
            },
            "type": "parcoords"
           }
          ],
          "pie": [
           {
            "automargin": true,
            "type": "pie"
           }
          ],
          "scatter": [
           {
            "marker": {
             "colorbar": {
              "outlinewidth": 0,
              "ticks": ""
             }
            },
            "type": "scatter"
           }
          ],
          "scatter3d": [
           {
            "line": {
             "colorbar": {
              "outlinewidth": 0,
              "ticks": ""
             }
            },
            "marker": {
             "colorbar": {
              "outlinewidth": 0,
              "ticks": ""
             }
            },
            "type": "scatter3d"
           }
          ],
          "scattercarpet": [
           {
            "marker": {
             "colorbar": {
              "outlinewidth": 0,
              "ticks": ""
             }
            },
            "type": "scattercarpet"
           }
          ],
          "scattergeo": [
           {
            "marker": {
             "colorbar": {
              "outlinewidth": 0,
              "ticks": ""
             }
            },
            "type": "scattergeo"
           }
          ],
          "scattergl": [
           {
            "marker": {
             "colorbar": {
              "outlinewidth": 0,
              "ticks": ""
             }
            },
            "type": "scattergl"
           }
          ],
          "scattermapbox": [
           {
            "marker": {
             "colorbar": {
              "outlinewidth": 0,
              "ticks": ""
             }
            },
            "type": "scattermapbox"
           }
          ],
          "scatterpolar": [
           {
            "marker": {
             "colorbar": {
              "outlinewidth": 0,
              "ticks": ""
             }
            },
            "type": "scatterpolar"
           }
          ],
          "scatterpolargl": [
           {
            "marker": {
             "colorbar": {
              "outlinewidth": 0,
              "ticks": ""
             }
            },
            "type": "scatterpolargl"
           }
          ],
          "scatterternary": [
           {
            "marker": {
             "colorbar": {
              "outlinewidth": 0,
              "ticks": ""
             }
            },
            "type": "scatterternary"
           }
          ],
          "surface": [
           {
            "colorbar": {
             "outlinewidth": 0,
             "ticks": ""
            },
            "colorscale": [
             [
              0,
              "#0d0887"
             ],
             [
              0.1111111111111111,
              "#46039f"
             ],
             [
              0.2222222222222222,
              "#7201a8"
             ],
             [
              0.3333333333333333,
              "#9c179e"
             ],
             [
              0.4444444444444444,
              "#bd3786"
             ],
             [
              0.5555555555555556,
              "#d8576b"
             ],
             [
              0.6666666666666666,
              "#ed7953"
             ],
             [
              0.7777777777777778,
              "#fb9f3a"
             ],
             [
              0.8888888888888888,
              "#fdca26"
             ],
             [
              1,
              "#f0f921"
             ]
            ],
            "type": "surface"
           }
          ],
          "table": [
           {
            "cells": {
             "fill": {
              "color": "#EBF0F8"
             },
             "line": {
              "color": "white"
             }
            },
            "header": {
             "fill": {
              "color": "#C8D4E3"
             },
             "line": {
              "color": "white"
             }
            },
            "type": "table"
           }
          ]
         },
         "layout": {
          "annotationdefaults": {
           "arrowcolor": "#2a3f5f",
           "arrowhead": 0,
           "arrowwidth": 1
          },
          "autotypenumbers": "strict",
          "coloraxis": {
           "colorbar": {
            "outlinewidth": 0,
            "ticks": ""
           }
          },
          "colorscale": {
           "diverging": [
            [
             0,
             "#8e0152"
            ],
            [
             0.1,
             "#c51b7d"
            ],
            [
             0.2,
             "#de77ae"
            ],
            [
             0.3,
             "#f1b6da"
            ],
            [
             0.4,
             "#fde0ef"
            ],
            [
             0.5,
             "#f7f7f7"
            ],
            [
             0.6,
             "#e6f5d0"
            ],
            [
             0.7,
             "#b8e186"
            ],
            [
             0.8,
             "#7fbc41"
            ],
            [
             0.9,
             "#4d9221"
            ],
            [
             1,
             "#276419"
            ]
           ],
           "sequential": [
            [
             0,
             "#0d0887"
            ],
            [
             0.1111111111111111,
             "#46039f"
            ],
            [
             0.2222222222222222,
             "#7201a8"
            ],
            [
             0.3333333333333333,
             "#9c179e"
            ],
            [
             0.4444444444444444,
             "#bd3786"
            ],
            [
             0.5555555555555556,
             "#d8576b"
            ],
            [
             0.6666666666666666,
             "#ed7953"
            ],
            [
             0.7777777777777778,
             "#fb9f3a"
            ],
            [
             0.8888888888888888,
             "#fdca26"
            ],
            [
             1,
             "#f0f921"
            ]
           ],
           "sequentialminus": [
            [
             0,
             "#0d0887"
            ],
            [
             0.1111111111111111,
             "#46039f"
            ],
            [
             0.2222222222222222,
             "#7201a8"
            ],
            [
             0.3333333333333333,
             "#9c179e"
            ],
            [
             0.4444444444444444,
             "#bd3786"
            ],
            [
             0.5555555555555556,
             "#d8576b"
            ],
            [
             0.6666666666666666,
             "#ed7953"
            ],
            [
             0.7777777777777778,
             "#fb9f3a"
            ],
            [
             0.8888888888888888,
             "#fdca26"
            ],
            [
             1,
             "#f0f921"
            ]
           ]
          },
          "colorway": [
           "#636efa",
           "#EF553B",
           "#00cc96",
           "#ab63fa",
           "#FFA15A",
           "#19d3f3",
           "#FF6692",
           "#B6E880",
           "#FF97FF",
           "#FECB52"
          ],
          "font": {
           "color": "#2a3f5f"
          },
          "geo": {
           "bgcolor": "white",
           "lakecolor": "white",
           "landcolor": "#E5ECF6",
           "showlakes": true,
           "showland": true,
           "subunitcolor": "white"
          },
          "hoverlabel": {
           "align": "left"
          },
          "hovermode": "closest",
          "mapbox": {
           "style": "light"
          },
          "paper_bgcolor": "white",
          "plot_bgcolor": "#E5ECF6",
          "polar": {
           "angularaxis": {
            "gridcolor": "white",
            "linecolor": "white",
            "ticks": ""
           },
           "bgcolor": "#E5ECF6",
           "radialaxis": {
            "gridcolor": "white",
            "linecolor": "white",
            "ticks": ""
           }
          },
          "scene": {
           "xaxis": {
            "backgroundcolor": "#E5ECF6",
            "gridcolor": "white",
            "gridwidth": 2,
            "linecolor": "white",
            "showbackground": true,
            "ticks": "",
            "zerolinecolor": "white"
           },
           "yaxis": {
            "backgroundcolor": "#E5ECF6",
            "gridcolor": "white",
            "gridwidth": 2,
            "linecolor": "white",
            "showbackground": true,
            "ticks": "",
            "zerolinecolor": "white"
           },
           "zaxis": {
            "backgroundcolor": "#E5ECF6",
            "gridcolor": "white",
            "gridwidth": 2,
            "linecolor": "white",
            "showbackground": true,
            "ticks": "",
            "zerolinecolor": "white"
           }
          },
          "shapedefaults": {
           "line": {
            "color": "#2a3f5f"
           }
          },
          "ternary": {
           "aaxis": {
            "gridcolor": "white",
            "linecolor": "white",
            "ticks": ""
           },
           "baxis": {
            "gridcolor": "white",
            "linecolor": "white",
            "ticks": ""
           },
           "bgcolor": "#E5ECF6",
           "caxis": {
            "gridcolor": "white",
            "linecolor": "white",
            "ticks": ""
           }
          },
          "title": {
           "x": 0.05
          },
          "xaxis": {
           "automargin": true,
           "gridcolor": "white",
           "linecolor": "white",
           "ticks": "",
           "title": {
            "standoff": 15
           },
           "zerolinecolor": "white",
           "zerolinewidth": 2
          },
          "yaxis": {
           "automargin": true,
           "gridcolor": "white",
           "linecolor": "white",
           "ticks": "",
           "title": {
            "standoff": 15
           },
           "zerolinecolor": "white",
           "zerolinewidth": 2
          }
         }
        },
        "title": {
         "text": "Jumlah Produk yang Terjual berdasarkan Kota"
        },
        "uniformtext": {
         "minsize": 12,
         "mode": "hide"
        },
        "width": 900,
        "xaxis": {
         "anchor": "y",
         "domain": [
          0,
          1
         ]
        },
        "yaxis": {
         "anchor": "x",
         "domain": [
          0,
          1
         ]
        }
       }
      },
      "text/html": [
       "<div>                            <div id=\"a164366c-6ca0-4ed8-80b4-3ae507371dfe\" class=\"plotly-graph-div\" style=\"height:400px; width:900px;\"></div>            <script type=\"text/javascript\">                require([\"plotly\"], function(Plotly) {                    window.PLOTLYENV=window.PLOTLYENV || {};                                    if (document.getElementById(\"a164366c-6ca0-4ed8-80b4-3ae507371dfe\")) {                    Plotly.newPlot(                        \"a164366c-6ca0-4ed8-80b4-3ae507371dfe\",                        [{\"name\":\"Electronic accessories\",\"textposition\":\"inside\",\"type\":\"bar\",\"x\":[\"Jakarta\",\"Surabaya\",\"Yogyakarta\"],\"xaxis\":\"x\",\"y\":[40,50,36],\"yaxis\":\"y\"},{\"name\":\"Fashion accessories\",\"textposition\":\"inside\",\"type\":\"bar\",\"x\":[\"Jakarta\",\"Surabaya\",\"Yogyakarta\"],\"xaxis\":\"x\",\"y\":[46,39,44],\"yaxis\":\"y\"},{\"name\":\"Food and beverages\",\"textposition\":\"inside\",\"type\":\"bar\",\"x\":[\"Jakarta\",\"Surabaya\",\"Yogyakarta\"],\"xaxis\":\"x\",\"y\":[36,43,47],\"yaxis\":\"y\"},{\"name\":\"Health and beauty\",\"textposition\":\"inside\",\"type\":\"bar\",\"x\":[\"Jakarta\",\"Surabaya\",\"Yogyakarta\"],\"xaxis\":\"x\",\"y\":[37,35,39],\"yaxis\":\"y\"},{\"name\":\"Home and lifestyle\",\"textposition\":\"inside\",\"type\":\"bar\",\"x\":[\"Jakarta\",\"Surabaya\",\"Yogyakarta\"],\"xaxis\":\"x\",\"y\":[41,49,35],\"yaxis\":\"y\"},{\"name\":\"Sports and travel\",\"textposition\":\"inside\",\"type\":\"bar\",\"x\":[\"Jakarta\",\"Surabaya\",\"Yogyakarta\"],\"xaxis\":\"x\",\"y\":[43,40,34],\"yaxis\":\"y\"}],                        {\"annotations\":[{\"font\":{\"size\":16},\"showarrow\":false,\"text\":\" \",\"x\":0.5,\"xanchor\":\"center\",\"xref\":\"paper\",\"y\":1.0,\"yanchor\":\"bottom\",\"yref\":\"paper\"}],\"height\":400,\"legend\":{\"title\":{\"text\":\"Product:\"}},\"template\":{\"data\":{\"bar\":[{\"error_x\":{\"color\":\"#2a3f5f\"},\"error_y\":{\"color\":\"#2a3f5f\"},\"marker\":{\"line\":{\"color\":\"#E5ECF6\",\"width\":0.5},\"pattern\":{\"fillmode\":\"overlay\",\"size\":10,\"solidity\":0.2}},\"type\":\"bar\"}],\"barpolar\":[{\"marker\":{\"line\":{\"color\":\"#E5ECF6\",\"width\":0.5},\"pattern\":{\"fillmode\":\"overlay\",\"size\":10,\"solidity\":0.2}},\"type\":\"barpolar\"}],\"carpet\":[{\"aaxis\":{\"endlinecolor\":\"#2a3f5f\",\"gridcolor\":\"white\",\"linecolor\":\"white\",\"minorgridcolor\":\"white\",\"startlinecolor\":\"#2a3f5f\"},\"baxis\":{\"endlinecolor\":\"#2a3f5f\",\"gridcolor\":\"white\",\"linecolor\":\"white\",\"minorgridcolor\":\"white\",\"startlinecolor\":\"#2a3f5f\"},\"type\":\"carpet\"}],\"choropleth\":[{\"colorbar\":{\"outlinewidth\":0,\"ticks\":\"\"},\"type\":\"choropleth\"}],\"contour\":[{\"colorbar\":{\"outlinewidth\":0,\"ticks\":\"\"},\"colorscale\":[[0.0,\"#0d0887\"],[0.1111111111111111,\"#46039f\"],[0.2222222222222222,\"#7201a8\"],[0.3333333333333333,\"#9c179e\"],[0.4444444444444444,\"#bd3786\"],[0.5555555555555556,\"#d8576b\"],[0.6666666666666666,\"#ed7953\"],[0.7777777777777778,\"#fb9f3a\"],[0.8888888888888888,\"#fdca26\"],[1.0,\"#f0f921\"]],\"type\":\"contour\"}],\"contourcarpet\":[{\"colorbar\":{\"outlinewidth\":0,\"ticks\":\"\"},\"type\":\"contourcarpet\"}],\"heatmap\":[{\"colorbar\":{\"outlinewidth\":0,\"ticks\":\"\"},\"colorscale\":[[0.0,\"#0d0887\"],[0.1111111111111111,\"#46039f\"],[0.2222222222222222,\"#7201a8\"],[0.3333333333333333,\"#9c179e\"],[0.4444444444444444,\"#bd3786\"],[0.5555555555555556,\"#d8576b\"],[0.6666666666666666,\"#ed7953\"],[0.7777777777777778,\"#fb9f3a\"],[0.8888888888888888,\"#fdca26\"],[1.0,\"#f0f921\"]],\"type\":\"heatmap\"}],\"heatmapgl\":[{\"colorbar\":{\"outlinewidth\":0,\"ticks\":\"\"},\"colorscale\":[[0.0,\"#0d0887\"],[0.1111111111111111,\"#46039f\"],[0.2222222222222222,\"#7201a8\"],[0.3333333333333333,\"#9c179e\"],[0.4444444444444444,\"#bd3786\"],[0.5555555555555556,\"#d8576b\"],[0.6666666666666666,\"#ed7953\"],[0.7777777777777778,\"#fb9f3a\"],[0.8888888888888888,\"#fdca26\"],[1.0,\"#f0f921\"]],\"type\":\"heatmapgl\"}],\"histogram\":[{\"marker\":{\"pattern\":{\"fillmode\":\"overlay\",\"size\":10,\"solidity\":0.2}},\"type\":\"histogram\"}],\"histogram2d\":[{\"colorbar\":{\"outlinewidth\":0,\"ticks\":\"\"},\"colorscale\":[[0.0,\"#0d0887\"],[0.1111111111111111,\"#46039f\"],[0.2222222222222222,\"#7201a8\"],[0.3333333333333333,\"#9c179e\"],[0.4444444444444444,\"#bd3786\"],[0.5555555555555556,\"#d8576b\"],[0.6666666666666666,\"#ed7953\"],[0.7777777777777778,\"#fb9f3a\"],[0.8888888888888888,\"#fdca26\"],[1.0,\"#f0f921\"]],\"type\":\"histogram2d\"}],\"histogram2dcontour\":[{\"colorbar\":{\"outlinewidth\":0,\"ticks\":\"\"},\"colorscale\":[[0.0,\"#0d0887\"],[0.1111111111111111,\"#46039f\"],[0.2222222222222222,\"#7201a8\"],[0.3333333333333333,\"#9c179e\"],[0.4444444444444444,\"#bd3786\"],[0.5555555555555556,\"#d8576b\"],[0.6666666666666666,\"#ed7953\"],[0.7777777777777778,\"#fb9f3a\"],[0.8888888888888888,\"#fdca26\"],[1.0,\"#f0f921\"]],\"type\":\"histogram2dcontour\"}],\"mesh3d\":[{\"colorbar\":{\"outlinewidth\":0,\"ticks\":\"\"},\"type\":\"mesh3d\"}],\"parcoords\":[{\"line\":{\"colorbar\":{\"outlinewidth\":0,\"ticks\":\"\"}},\"type\":\"parcoords\"}],\"pie\":[{\"automargin\":true,\"type\":\"pie\"}],\"scatter\":[{\"marker\":{\"colorbar\":{\"outlinewidth\":0,\"ticks\":\"\"}},\"type\":\"scatter\"}],\"scatter3d\":[{\"line\":{\"colorbar\":{\"outlinewidth\":0,\"ticks\":\"\"}},\"marker\":{\"colorbar\":{\"outlinewidth\":0,\"ticks\":\"\"}},\"type\":\"scatter3d\"}],\"scattercarpet\":[{\"marker\":{\"colorbar\":{\"outlinewidth\":0,\"ticks\":\"\"}},\"type\":\"scattercarpet\"}],\"scattergeo\":[{\"marker\":{\"colorbar\":{\"outlinewidth\":0,\"ticks\":\"\"}},\"type\":\"scattergeo\"}],\"scattergl\":[{\"marker\":{\"colorbar\":{\"outlinewidth\":0,\"ticks\":\"\"}},\"type\":\"scattergl\"}],\"scattermapbox\":[{\"marker\":{\"colorbar\":{\"outlinewidth\":0,\"ticks\":\"\"}},\"type\":\"scattermapbox\"}],\"scatterpolar\":[{\"marker\":{\"colorbar\":{\"outlinewidth\":0,\"ticks\":\"\"}},\"type\":\"scatterpolar\"}],\"scatterpolargl\":[{\"marker\":{\"colorbar\":{\"outlinewidth\":0,\"ticks\":\"\"}},\"type\":\"scatterpolargl\"}],\"scatterternary\":[{\"marker\":{\"colorbar\":{\"outlinewidth\":0,\"ticks\":\"\"}},\"type\":\"scatterternary\"}],\"surface\":[{\"colorbar\":{\"outlinewidth\":0,\"ticks\":\"\"},\"colorscale\":[[0.0,\"#0d0887\"],[0.1111111111111111,\"#46039f\"],[0.2222222222222222,\"#7201a8\"],[0.3333333333333333,\"#9c179e\"],[0.4444444444444444,\"#bd3786\"],[0.5555555555555556,\"#d8576b\"],[0.6666666666666666,\"#ed7953\"],[0.7777777777777778,\"#fb9f3a\"],[0.8888888888888888,\"#fdca26\"],[1.0,\"#f0f921\"]],\"type\":\"surface\"}],\"table\":[{\"cells\":{\"fill\":{\"color\":\"#EBF0F8\"},\"line\":{\"color\":\"white\"}},\"header\":{\"fill\":{\"color\":\"#C8D4E3\"},\"line\":{\"color\":\"white\"}},\"type\":\"table\"}]},\"layout\":{\"annotationdefaults\":{\"arrowcolor\":\"#2a3f5f\",\"arrowhead\":0,\"arrowwidth\":1},\"autotypenumbers\":\"strict\",\"coloraxis\":{\"colorbar\":{\"outlinewidth\":0,\"ticks\":\"\"}},\"colorscale\":{\"diverging\":[[0,\"#8e0152\"],[0.1,\"#c51b7d\"],[0.2,\"#de77ae\"],[0.3,\"#f1b6da\"],[0.4,\"#fde0ef\"],[0.5,\"#f7f7f7\"],[0.6,\"#e6f5d0\"],[0.7,\"#b8e186\"],[0.8,\"#7fbc41\"],[0.9,\"#4d9221\"],[1,\"#276419\"]],\"sequential\":[[0.0,\"#0d0887\"],[0.1111111111111111,\"#46039f\"],[0.2222222222222222,\"#7201a8\"],[0.3333333333333333,\"#9c179e\"],[0.4444444444444444,\"#bd3786\"],[0.5555555555555556,\"#d8576b\"],[0.6666666666666666,\"#ed7953\"],[0.7777777777777778,\"#fb9f3a\"],[0.8888888888888888,\"#fdca26\"],[1.0,\"#f0f921\"]],\"sequentialminus\":[[0.0,\"#0d0887\"],[0.1111111111111111,\"#46039f\"],[0.2222222222222222,\"#7201a8\"],[0.3333333333333333,\"#9c179e\"],[0.4444444444444444,\"#bd3786\"],[0.5555555555555556,\"#d8576b\"],[0.6666666666666666,\"#ed7953\"],[0.7777777777777778,\"#fb9f3a\"],[0.8888888888888888,\"#fdca26\"],[1.0,\"#f0f921\"]]},\"colorway\":[\"#636efa\",\"#EF553B\",\"#00cc96\",\"#ab63fa\",\"#FFA15A\",\"#19d3f3\",\"#FF6692\",\"#B6E880\",\"#FF97FF\",\"#FECB52\"],\"font\":{\"color\":\"#2a3f5f\"},\"geo\":{\"bgcolor\":\"white\",\"lakecolor\":\"white\",\"landcolor\":\"#E5ECF6\",\"showlakes\":true,\"showland\":true,\"subunitcolor\":\"white\"},\"hoverlabel\":{\"align\":\"left\"},\"hovermode\":\"closest\",\"mapbox\":{\"style\":\"light\"},\"paper_bgcolor\":\"white\",\"plot_bgcolor\":\"#E5ECF6\",\"polar\":{\"angularaxis\":{\"gridcolor\":\"white\",\"linecolor\":\"white\",\"ticks\":\"\"},\"bgcolor\":\"#E5ECF6\",\"radialaxis\":{\"gridcolor\":\"white\",\"linecolor\":\"white\",\"ticks\":\"\"}},\"scene\":{\"xaxis\":{\"backgroundcolor\":\"#E5ECF6\",\"gridcolor\":\"white\",\"gridwidth\":2,\"linecolor\":\"white\",\"showbackground\":true,\"ticks\":\"\",\"zerolinecolor\":\"white\"},\"yaxis\":{\"backgroundcolor\":\"#E5ECF6\",\"gridcolor\":\"white\",\"gridwidth\":2,\"linecolor\":\"white\",\"showbackground\":true,\"ticks\":\"\",\"zerolinecolor\":\"white\"},\"zaxis\":{\"backgroundcolor\":\"#E5ECF6\",\"gridcolor\":\"white\",\"gridwidth\":2,\"linecolor\":\"white\",\"showbackground\":true,\"ticks\":\"\",\"zerolinecolor\":\"white\"}},\"shapedefaults\":{\"line\":{\"color\":\"#2a3f5f\"}},\"ternary\":{\"aaxis\":{\"gridcolor\":\"white\",\"linecolor\":\"white\",\"ticks\":\"\"},\"baxis\":{\"gridcolor\":\"white\",\"linecolor\":\"white\",\"ticks\":\"\"},\"bgcolor\":\"#E5ECF6\",\"caxis\":{\"gridcolor\":\"white\",\"linecolor\":\"white\",\"ticks\":\"\"}},\"title\":{\"x\":0.05},\"xaxis\":{\"automargin\":true,\"gridcolor\":\"white\",\"linecolor\":\"white\",\"ticks\":\"\",\"title\":{\"standoff\":15},\"zerolinecolor\":\"white\",\"zerolinewidth\":2},\"yaxis\":{\"automargin\":true,\"gridcolor\":\"white\",\"linecolor\":\"white\",\"ticks\":\"\",\"title\":{\"standoff\":15},\"zerolinecolor\":\"white\",\"zerolinewidth\":2}}},\"title\":{\"text\":\"Jumlah Produk yang Terjual berdasarkan Kota\"},\"uniformtext\":{\"minsize\":12,\"mode\":\"hide\"},\"width\":900,\"xaxis\":{\"anchor\":\"y\",\"domain\":[0.0,1.0]},\"yaxis\":{\"anchor\":\"x\",\"domain\":[0.0,1.0]}},                        {\"responsive\": true}                    ).then(function(){\n",
       "                            \n",
       "var gd = document.getElementById('a164366c-6ca0-4ed8-80b4-3ae507371dfe');\n",
       "var x = new MutationObserver(function (mutations, observer) {{\n",
       "        var display = window.getComputedStyle(gd).display;\n",
       "        if (!display || display === 'none') {{\n",
       "            console.log([gd, 'removed!']);\n",
       "            Plotly.purge(gd);\n",
       "            observer.disconnect();\n",
       "        }}\n",
       "}});\n",
       "\n",
       "// Listen for the removal of the full notebook cells\n",
       "var notebookContainer = gd.closest('#notebook-container');\n",
       "if (notebookContainer) {{\n",
       "    x.observe(notebookContainer, {childList: true});\n",
       "}}\n",
       "\n",
       "// Listen for the clearing of the current output cell\n",
       "var outputEl = gd.closest('.output');\n",
       "if (outputEl) {{\n",
       "    x.observe(outputEl, {childList: true});\n",
       "}}\n",
       "\n",
       "                        })                };                });            </script>        </div>"
      ]
     },
     "metadata": {},
     "output_type": "display_data"
    }
   ],
   "source": [
    "fig = make_subplots(rows=1, \n",
    "                    cols=1, \n",
    "#                     specs=[[{'type':'domain'}, {'type':'domain'}]],\n",
    "                    subplot_titles=(' '))\n",
    "\n",
    "\n",
    "feature = [\"Kota\", 'NamaProduk']\n",
    "data2 = pd.crosstab(df[feature[0]], df[feature[1]])\n",
    "data2['Kota'] = data2.index\n",
    "\n",
    "labels = data2['Kota'].tolist()\n",
    "values1 = data2['Electronic accessories'].tolist()\n",
    "values2 = data2['Fashion accessories'].tolist()\n",
    "values3 = data2['Food and beverages'].tolist()\n",
    "values4 = data2['Health and beauty'].tolist()\n",
    "values5 = data2['Home and lifestyle'].tolist()\n",
    "values6 = data2['Sports and travel'].tolist()\n",
    "\n",
    "\n",
    "fig.add_trace(go.Bar(\n",
    "                    x=labels,\n",
    "                    y=values1, \n",
    "                    name='Electronic accessories'),\n",
    "                    1,1)\n",
    "\n",
    "fig.add_trace(go.Bar(\n",
    "                    x=labels,\n",
    "                    y=values2, \n",
    "                    name='Fashion accessories'),\n",
    "                    1,1)\n",
    "\n",
    "fig.add_trace(go.Bar(\n",
    "                    x=labels,\n",
    "                    y=values3, \n",
    "                    name='Food and beverages'),\n",
    "                    1,1)\n",
    "\n",
    "fig.add_trace(go.Bar(\n",
    "                    x=labels,\n",
    "                    y=values4, \n",
    "                    name='Health and beauty'),\n",
    "                    1,1)\n",
    "\n",
    "fig.add_trace(go.Bar(\n",
    "                    x=labels,\n",
    "                    y=values5, \n",
    "                    name='Home and lifestyle'),\n",
    "                    1,1)\n",
    "\n",
    "fig.add_trace(go.Bar(\n",
    "                    x=labels,\n",
    "                    y=values6, \n",
    "                    name='Sports and travel'),\n",
    "                    1,1)\n",
    "\n",
    "fig.update_traces(textposition='inside')\n",
    "fig.update_layout(uniformtext_minsize=12, uniformtext_mode='hide')\n",
    "fig['layout'].update(height=400, \n",
    "                     width=900, \n",
    "                     title='Jumlah Produk yang Terjual berdasarkan Kota',\n",
    "                    legend_title=\"Product:\")\n",
    "fig.show()"
   ]
  },
  {
   "cell_type": "markdown",
   "metadata": {},
   "source": [
    " Kesimpulan :\n",
    "        Surabaya adalah kota yang paling profit, cocok digunakan untuk pembisnis berjualan dikota ini. produk yang terjual banyak yaitu Electronic Accesories dan Home and Lifestyle"
   ]
  },
  {
   "cell_type": "code",
   "execution_count": null,
   "metadata": {},
   "outputs": [],
   "source": []
  }
 ],
 "metadata": {
  "kernelspec": {
   "display_name": "Python 3",
   "language": "python",
   "name": "python3"
  },
  "language_info": {
   "codemirror_mode": {
    "name": "ipython",
    "version": 3
   },
   "file_extension": ".py",
   "mimetype": "text/x-python",
   "name": "python",
   "nbconvert_exporter": "python",
   "pygments_lexer": "ipython3",
   "version": "3.8.5"
  }
 },
 "nbformat": 4,
 "nbformat_minor": 4
}
